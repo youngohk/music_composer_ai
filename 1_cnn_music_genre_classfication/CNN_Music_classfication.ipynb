{
 "cells": [
  {
   "cell_type": "code",
   "execution_count": null,
   "metadata": {},
   "outputs": [],
   "source": [
    "# python3 app.py -t dl -m ../models/custom_cnn_2d.h5 -s ../data/samples/iza_meu_talisma.mp3   (실행하는 방법)\n",
    "# 소스 수정하는 부분 :  ../gtzan/__init__.py\n",
    "\n",
    "\n",
    "# https://github.com/Hguimaraes/gtzan.keras\n",
    "\n",
    "\n",
    "import argparse\n",
    "from gtzan import AppManager"
   ]
  },
  {
   "cell_type": "code",
   "execution_count": null,
   "metadata": {},
   "outputs": [],
   "source": [
    "import tensorflow as tf"
   ]
  },
  {
   "cell_type": "code",
   "execution_count": null,
   "metadata": {},
   "outputs": [],
   "source": [
    "# Constants\n",
    "genres = {\n",
    "    'metal': 0, 'disco': 1, 'classical': 2, 'hiphop': 3, 'jazz': 4,\n",
    "    'country': 5, 'pop': 6, 'blues': 7, 'reggae': 8, 'rock': 9\n",
    "}\n",
    "\n",
    "# @RUN: Main function to call the appmanager"
   ]
  },
  {
   "cell_type": "code",
   "execution_count": null,
   "metadata": {},
   "outputs": [],
   "source": [
    "def main(args):\n",
    "    if args.type not in [\"dl\", \"ml\"]:\n",
    "        raise ValueError(\n",
    "            \"Invalid type for the application. You should use dl or ml.\")\n",
    "\n",
    "    app = AppManager(args, genres)\n",
    "    app.run()"
   ]
  },
  {
   "cell_type": "code",
   "execution_count": null,
   "metadata": {},
   "outputs": [],
   "source": [
    "if __name__ == '__main__':\n",
    "    # Parse command line arguments\n",
    "    parser = argparse.ArgumentParser(\n",
    "        description='Music Genre Recognition on GTZAN')\n",
    "\n",
    "    # Required arguments\n",
    "    parser.add_argument('-t', '--type', help='dl', type=str, default='dl')\n",
    "\n",
    "    # Nearly optional arguments. Should be filled according to the option of the requireds\n",
    "    parser.add_argument('-m', '--model', help='Path to trained model',\n",
    "                        type=str, default='models/custom_cnn_2d.h5')\n",
    "    parser.add_argument('-s', '--song', help='Path to song to classify',\n",
    "                        type=str, default='music/sample.mp3')\n",
    "    args = parser.parse_args()\n",
    "\n",
    "    # Call the main function\n",
    "    main(args)"
   ]
  }
 ],
 "metadata": {
  "kernelspec": {
   "display_name": "Python 3",
   "language": "python",
   "name": "python3"
  },
  "language_info": {
   "codemirror_mode": {
    "name": "ipython",
    "version": 3
   },
   "file_extension": ".py",
   "mimetype": "text/x-python",
   "name": "python",
   "nbconvert_exporter": "python",
   "pygments_lexer": "ipython3",
   "version": "3.7.3"
  }
 },
 "nbformat": 4,
 "nbformat_minor": 2
}
