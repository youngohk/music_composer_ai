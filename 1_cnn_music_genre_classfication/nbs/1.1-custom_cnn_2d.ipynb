{
 "cells": [
  {
   "cell_type": "code",
   "execution_count": null,
   "metadata": {},
   "outputs": [],
   "source": [
    "import os\n",
    "import h5py\n",
    "import librosa\n",
    "import itertools\n",
    "from copy import copy\n",
    "import numpy as np\n",
    "import matplotlib.pyplot as plt\n",
    "from collections import OrderedDict\n",
    "from sklearn.model_selection import train_test_split\n",
    "from sklearn.metrics import confusion_matrix"
   ]
  },
  {
   "cell_type": "code",
   "execution_count": null,
   "metadata": {},
   "outputs": [],
   "source": [
    "import tensorflow as tf\n",
    "from tensorflow.keras.utils import to_categorical\n",
    "from tensorflow.keras.models import Model\n",
    "from tensorflow.keras.layers import Input\n",
    "from tensorflow.keras.models import Sequential\n",
    "from tensorflow.keras.layers import Add\n",
    "from tensorflow.keras.layers import Dense\n",
    "from tensorflow.keras.layers import Activation\n",
    "from tensorflow.keras.layers import PReLU\n",
    "from tensorflow.keras.layers import Conv2D\n",
    "from tensorflow.keras.layers import MaxPooling2D\n",
    "from tensorflow.keras.layers import AveragePooling2D\n",
    "from tensorflow.keras.layers import GlobalAveragePooling2D\n",
    "from tensorflow.keras.layers import GlobalMaxPooling2D\n",
    "from tensorflow.keras.layers import Dropout\n",
    "from tensorflow.keras.layers import Flatten\n",
    "from tensorflow.keras.layers import BatchNormalization\n",
    "from tensorflow.keras.callbacks import ReduceLROnPlateau"
   ]
  },
  {
   "cell_type": "code",
   "execution_count": 3,
   "metadata": {},
   "outputs": [],
   "source": [
    "# For reproducibility purposes\n",
    "np.random.seed(42)"
   ]
  },
  {
   "cell_type": "markdown",
   "metadata": {},
   "source": [
    "# Read the data\n",
    "\n",
    "> Helper functions to assist the process to read songs, split then and return an array of spectrograms/melspectrograms"
   ]
  },
  {
   "cell_type": "code",
   "execution_count": 4,
   "metadata": {},
   "outputs": [],
   "source": [
    "\"\"\"\n",
    "@description: Method to split a song into multiple songs using overlapping windows\n",
    "\"\"\"\n",
    "def splitsongs(X, y, window = 0.05, overlap = 0.5):\n",
    "    # Empty lists to hold our results\n",
    "    temp_X = []\n",
    "    temp_y = []\n",
    "\n",
    "    # Get the input song array size\n",
    "    xshape = X.shape[0]\n",
    "    chunk = int(xshape*window)\n",
    "    offset = int(chunk*(1.-overlap))\n",
    "    \n",
    "    # Split the song and create new ones on windows\n",
    "    spsong = [X[i:i+chunk] for i in range(0, xshape - chunk + offset, offset)]\n",
    "    for s in spsong:\n",
    "        if s.shape[0] != chunk:\n",
    "            continue\n",
    "\n",
    "        temp_X.append(s)\n",
    "        temp_y.append(y)\n",
    "\n",
    "    return np.array(temp_X), np.array(temp_y)"
   ]
  },
  {
   "cell_type": "code",
   "execution_count": 5,
   "metadata": {},
   "outputs": [],
   "source": [
    "\"\"\"\n",
    "@description: Method to convert a list of songs to a np array of melspectrograms\n",
    "\"\"\"\n",
    "def to_melspectrogram(songs, n_fft=1024, hop_length=256):\n",
    "    # Transformation function\n",
    "    melspec = lambda x: librosa.feature.melspectrogram(x, n_fft=n_fft,\n",
    "        hop_length=hop_length, n_mels=128)[:,:,np.newaxis]\n",
    "\n",
    "    # map transformation of input songs to melspectrogram using log-scale\n",
    "    tsongs = map(melspec, songs)\n",
    "    # np.array([librosa.power_to_db(s, ref=np.max) for s in list(tsongs)])\n",
    "    return np.array(list(tsongs))"
   ]
  },
  {
   "cell_type": "code",
   "execution_count": 6,
   "metadata": {},
   "outputs": [],
   "source": [
    "def split_convert(X, y):\n",
    "    arr_specs, arr_genres = [], []\n",
    "    \n",
    "    # Convert to spectrograms and split into small windows\n",
    "    for fn, genre in zip(X, y):\n",
    "        signal, sr = librosa.load(fn)\n",
    "        signal = signal[:song_samples]\n",
    "\n",
    "        # Convert to dataset of spectograms/melspectograms\n",
    "        signals, y = splitsongs(signal, genre)\n",
    "\n",
    "        # Convert to \"spec\" representation\n",
    "        specs = to_melspectrogram(signals)\n",
    "\n",
    "        # Save files\n",
    "        arr_genres.extend(y)\n",
    "        arr_specs.extend(specs)\n",
    "    \n",
    "    return np.array(arr_specs), to_categorical(arr_genres)"
   ]
  },
  {
   "cell_type": "code",
   "execution_count": 7,
   "metadata": {},
   "outputs": [],
   "source": [
    "def read_data(src_dir, genres, song_samples):    \n",
    "    # Empty array of dicts with the processed features from all files\n",
    "    arr_fn = []\n",
    "    arr_genres = []\n",
    "\n",
    "    # Get file list from the folders\n",
    "    for x,_ in genres.items():\n",
    "        folder = src_dir + x\n",
    "        for root, subdirs, files in os.walk(folder):\n",
    "            for file in files:\n",
    "                file_name = folder + \"/\" + file\n",
    "\n",
    "                # Save the file name and the genre\n",
    "                arr_fn.append(file_name)\n",
    "                arr_genres.append(genres[x])\n",
    "    \n",
    "    # Split into train and test\n",
    "    X_train, X_test, y_train, y_test = train_test_split(\n",
    "        arr_fn, arr_genres, test_size=0.3, random_state=42, stratify=arr_genres\n",
    "    )\n",
    "    \n",
    "    # Split into small segments and convert to spectrogram\n",
    "    X_train, y_train = split_convert(X_train, y_train)\n",
    "    X_test, y_test = split_convert(X_test, y_test)\n",
    "\n",
    "    return X_train, X_test, y_train, y_test"
   ]
  },
  {
   "cell_type": "code",
   "execution_count": 8,
   "metadata": {},
   "outputs": [
    {
     "ename": "ValueError",
     "evalue": "With n_samples=0, test_size=0.3 and train_size=None, the resulting train set will be empty. Adjust any of the aforementioned parameters.",
     "output_type": "error",
     "traceback": [
      "\u001b[0;31m---------------------------------------------------------------------------\u001b[0m",
      "\u001b[0;31mValueError\u001b[0m                                Traceback (most recent call last)",
      "\u001b[0;32m<ipython-input-8-6a33b48bdc6d>\u001b[0m in \u001b[0;36m<module>\u001b[0;34m\u001b[0m\n\u001b[1;32m      6\u001b[0m \u001b[0;34m\u001b[0m\u001b[0m\n\u001b[1;32m      7\u001b[0m \u001b[0;31m# Read the data\u001b[0m\u001b[0;34m\u001b[0m\u001b[0;34m\u001b[0m\u001b[0;34m\u001b[0m\u001b[0m\n\u001b[0;32m----> 8\u001b[0;31m \u001b[0mX_train\u001b[0m\u001b[0;34m,\u001b[0m \u001b[0mX_test\u001b[0m\u001b[0;34m,\u001b[0m \u001b[0my_train\u001b[0m\u001b[0;34m,\u001b[0m \u001b[0my_test\u001b[0m \u001b[0;34m=\u001b[0m \u001b[0mread_data\u001b[0m\u001b[0;34m(\u001b[0m\u001b[0mgtzan_dir\u001b[0m\u001b[0;34m,\u001b[0m \u001b[0mgenres\u001b[0m\u001b[0;34m,\u001b[0m \u001b[0msong_samples\u001b[0m\u001b[0;34m)\u001b[0m\u001b[0;34m\u001b[0m\u001b[0;34m\u001b[0m\u001b[0m\n\u001b[0m",
      "\u001b[0;32m<ipython-input-7-fc350fa0e30c>\u001b[0m in \u001b[0;36mread_data\u001b[0;34m(src_dir, genres, song_samples)\u001b[0m\n\u001b[1;32m     17\u001b[0m     \u001b[0;31m# Split into train and test\u001b[0m\u001b[0;34m\u001b[0m\u001b[0;34m\u001b[0m\u001b[0;34m\u001b[0m\u001b[0m\n\u001b[1;32m     18\u001b[0m     X_train, X_test, y_train, y_test = train_test_split(\n\u001b[0;32m---> 19\u001b[0;31m         \u001b[0marr_fn\u001b[0m\u001b[0;34m,\u001b[0m \u001b[0marr_genres\u001b[0m\u001b[0;34m,\u001b[0m \u001b[0mtest_size\u001b[0m\u001b[0;34m=\u001b[0m\u001b[0;36m0.3\u001b[0m\u001b[0;34m,\u001b[0m \u001b[0mrandom_state\u001b[0m\u001b[0;34m=\u001b[0m\u001b[0;36m42\u001b[0m\u001b[0;34m,\u001b[0m \u001b[0mstratify\u001b[0m\u001b[0;34m=\u001b[0m\u001b[0marr_genres\u001b[0m\u001b[0;34m\u001b[0m\u001b[0;34m\u001b[0m\u001b[0m\n\u001b[0m\u001b[1;32m     20\u001b[0m     )\n\u001b[1;32m     21\u001b[0m \u001b[0;34m\u001b[0m\u001b[0m\n",
      "\u001b[0;32m~/opt/anaconda3/lib/python3.7/site-packages/sklearn/model_selection/_split.py\u001b[0m in \u001b[0;36mtrain_test_split\u001b[0;34m(*arrays, **options)\u001b[0m\n\u001b[1;32m   2120\u001b[0m     \u001b[0mn_samples\u001b[0m \u001b[0;34m=\u001b[0m \u001b[0m_num_samples\u001b[0m\u001b[0;34m(\u001b[0m\u001b[0marrays\u001b[0m\u001b[0;34m[\u001b[0m\u001b[0;36m0\u001b[0m\u001b[0;34m]\u001b[0m\u001b[0;34m)\u001b[0m\u001b[0;34m\u001b[0m\u001b[0;34m\u001b[0m\u001b[0m\n\u001b[1;32m   2121\u001b[0m     n_train, n_test = _validate_shuffle_split(n_samples, test_size, train_size,\n\u001b[0;32m-> 2122\u001b[0;31m                                               default_test_size=0.25)\n\u001b[0m\u001b[1;32m   2123\u001b[0m \u001b[0;34m\u001b[0m\u001b[0m\n\u001b[1;32m   2124\u001b[0m     \u001b[0;32mif\u001b[0m \u001b[0mshuffle\u001b[0m \u001b[0;32mis\u001b[0m \u001b[0;32mFalse\u001b[0m\u001b[0;34m:\u001b[0m\u001b[0;34m\u001b[0m\u001b[0;34m\u001b[0m\u001b[0m\n",
      "\u001b[0;32m~/opt/anaconda3/lib/python3.7/site-packages/sklearn/model_selection/_split.py\u001b[0m in \u001b[0;36m_validate_shuffle_split\u001b[0;34m(n_samples, test_size, train_size, default_test_size)\u001b[0m\n\u001b[1;32m   1803\u001b[0m             \u001b[0;34m'resulting train set will be empty. Adjust any of the '\u001b[0m\u001b[0;34m\u001b[0m\u001b[0;34m\u001b[0m\u001b[0m\n\u001b[1;32m   1804\u001b[0m             'aforementioned parameters.'.format(n_samples, test_size,\n\u001b[0;32m-> 1805\u001b[0;31m                                                 train_size)\n\u001b[0m\u001b[1;32m   1806\u001b[0m         )\n\u001b[1;32m   1807\u001b[0m \u001b[0;34m\u001b[0m\u001b[0m\n",
      "\u001b[0;31mValueError\u001b[0m: With n_samples=0, test_size=0.3 and train_size=None, the resulting train set will be empty. Adjust any of the aforementioned parameters."
     ]
    }
   ],
   "source": [
    "# Parameters\n",
    "gtzan_dir = '../data/genres/'\n",
    "song_samples = 660000\n",
    "genres = {'metal': 0, 'disco': 1, 'classical': 2, 'hiphop': 3, 'jazz': 4, \n",
    "          'country': 5, 'pop': 6, 'blues': 7, 'reggae': 8, 'rock': 9}\n",
    "\n",
    "# Read the data\n",
    "X_train, X_test, y_train, y_test = read_data(gtzan_dir, genres, song_samples)"
   ]
  },
  {
   "cell_type": "code",
   "execution_count": 9,
   "metadata": {},
   "outputs": [
    {
     "name": "stdout",
     "output_type": "stream",
     "text": [
      "(27300, 128, 129, 1) (11700, 128, 129, 1) (27300, 10) (11700, 10)\n"
     ]
    }
   ],
   "source": [
    "print(X_train.shape, X_test.shape, y_train.shape, y_test.shape)"
   ]
  },
  {
   "cell_type": "code",
   "execution_count": 10,
   "metadata": {},
   "outputs": [
    {
     "data": {
      "image/png": "[encoded data removed]",
      "text/plain": [
       "<Figure size 432x288 with 1 Axes>"
      ]
     },
     "metadata": {
      "needs_background": "light"
     },
     "output_type": "display_data"
    }
   ],
   "source": [
    "# Histogram for train and test \n",
    "values, count = np.unique(np.argmax(y_train, axis=1), return_counts=True)\n",
    "plt.bar(values, count)\n",
    "\n",
    "values, count = np.unique(np.argmax(y_test, axis=1), return_counts=True)\n",
    "plt.bar(values, count)\n",
    "plt.show()"
   ]
  },
  {
   "cell_type": "markdown",
   "metadata": {},
   "source": [
    "# GTZAN Melspectrogram Generator"
   ]
  },
  {
   "cell_type": "code",
   "execution_count": 11,
   "metadata": {},
   "outputs": [],
   "source": [
    "from tensorflow.keras.utils import Sequence\n",
    "\n",
    "class GTZANGenerator(Sequence):\n",
    "    def __init__(self, X, y, batch_size=64, is_test = False):\n",
    "        self.X = X\n",
    "        self.y = y\n",
    "        self.batch_size = batch_size\n",
    "        self.is_test = is_test\n",
    "    \n",
    "    def __len__(self):\n",
    "        return int(np.ceil(len(self.X)/self.batch_size))\n",
    "    \n",
    "    def __getitem__(self, index):\n",
    "        # Get batch indexes\n",
    "        signals = self.X[index*self.batch_size:(index+1)*self.batch_size]\n",
    "\n",
    "        # Apply data augmentation\n",
    "        if not self.is_test:\n",
    "            signals = self.__augment(signals)\n",
    "        return signals, self.y[index*self.batch_size:(index+1)*self.batch_size]\n",
    "    \n",
    "    def __augment(self, signals, hor_flip = 0.5, random_cutout = 0.5):\n",
    "        spectrograms =  []\n",
    "        for s in signals:\n",
    "            signal = copy(s)\n",
    "            \n",
    "            # Perform horizontal flip\n",
    "            if np.random.rand() < hor_flip:\n",
    "                signal = np.flip(signal, 1)\n",
    "\n",
    "            # Perform random cutoout of some frequency/time\n",
    "            if np.random.rand() < random_cutout:\n",
    "                lines = np.random.randint(signal.shape[0], size=3)\n",
    "                cols = np.random.randint(signal.shape[0], size=4)\n",
    "                signal[lines, :, :] = -80 # dB\n",
    "                signal[:, cols, :] = -80 # dB\n",
    "\n",
    "            spectrograms.append(signal)\n",
    "        return np.array(spectrograms)\n",
    "    \n",
    "    def on_epoch_end(self):\n",
    "        self.indexes = np.arange(len(self.X))\n",
    "        np.random.shuffle(self.indexes)\n",
    "        return None"
   ]
  },
  {
   "cell_type": "markdown",
   "metadata": {},
   "source": [
    "# Custom CNN (Melspectrogram version)"
   ]
  },
  {
   "cell_type": "code",
   "execution_count": 12,
   "metadata": {},
   "outputs": [],
   "source": [
    "def conv_block(x, n_filters, pool_size=(2, 2)):\n",
    "    x = Conv2D(n_filters, (3, 3), strides=(1, 1), padding='same')(x)\n",
    "    x = Activation('relu')(x)\n",
    "    x = MaxPooling2D(pool_size=pool_size, strides=pool_size)(x)\n",
    "    x = Dropout(0.25)(x)\n",
    "    return x"
   ]
  },
  {
   "cell_type": "code",
   "execution_count": 13,
   "metadata": {},
   "outputs": [],
   "source": [
    "# Model Definition\n",
    "def create_model(input_shape, num_genres):\n",
    "    inpt = Input(shape=input_shape)\n",
    "    x = conv_block(inpt, 16)\n",
    "    x = conv_block(x, 32)\n",
    "    x = conv_block(x, 64)\n",
    "    x = conv_block(x, 128)\n",
    "    x = conv_block(x, 256)\n",
    "    \n",
    "    # Global Pooling and MLP\n",
    "    x = Flatten()(x)\n",
    "    x = Dropout(0.5)(x)\n",
    "    x = Dense(512, activation='relu', \n",
    "              kernel_regularizer=tf.keras.regularizers.l2(0.02))(x)\n",
    "    x = Dropout(0.25)(x)\n",
    "    predictions = Dense(num_genres, \n",
    "                        activation='softmax', \n",
    "                        kernel_regularizer=tf.keras.regularizers.l2(0.02))(x)\n",
    "    \n",
    "    model = Model(inputs=inpt, outputs=predictions)\n",
    "    return model"
   ]
  },
  {
   "cell_type": "code",
   "execution_count": 14,
   "metadata": {},
   "outputs": [],
   "source": [
    "model = create_model(X_train[0].shape, 10)"
   ]
  },
  {
   "cell_type": "code",
   "execution_count": 15,
   "metadata": {},
   "outputs": [
    {
     "name": "stdout",
     "output_type": "stream",
     "text": [
      "Model: \"model\"\n",
      "_________________________________________________________________\n",
      "Layer (type)                 Output Shape              Param #   \n",
      "=================================================================\n",
      "input_1 (InputLayer)         [(None, 128, 129, 1)]     0         \n",
      "_________________________________________________________________\n",
      "conv2d (Conv2D)              (None, 128, 129, 16)      160       \n",
      "_________________________________________________________________\n",
      "activation (Activation)      (None, 128, 129, 16)      0         \n",
      "_________________________________________________________________\n",
      "max_pooling2d (MaxPooling2D) (None, 64, 64, 16)        0         \n",
      "_________________________________________________________________\n",
      "dropout (Dropout)            (None, 64, 64, 16)        0         \n",
      "_________________________________________________________________\n",
      "conv2d_1 (Conv2D)            (None, 64, 64, 32)        4640      \n",
      "_________________________________________________________________\n",
      "activation_1 (Activation)    (None, 64, 64, 32)        0         \n",
      "_________________________________________________________________\n",
      "max_pooling2d_1 (MaxPooling2 (None, 32, 32, 32)        0         \n",
      "_________________________________________________________________\n",
      "dropout_1 (Dropout)          (None, 32, 32, 32)        0         \n",
      "_________________________________________________________________\n",
      "conv2d_2 (Conv2D)            (None, 32, 32, 64)        18496     \n",
      "_________________________________________________________________\n",
      "activation_2 (Activation)    (None, 32, 32, 64)        0         \n",
      "_________________________________________________________________\n",
      "max_pooling2d_2 (MaxPooling2 (None, 16, 16, 64)        0         \n",
      "_________________________________________________________________\n",
      "dropout_2 (Dropout)          (None, 16, 16, 64)        0         \n",
      "_________________________________________________________________\n",
      "conv2d_3 (Conv2D)            (None, 16, 16, 128)       73856     \n",
      "_________________________________________________________________\n",
      "activation_3 (Activation)    (None, 16, 16, 128)       0         \n",
      "_________________________________________________________________\n",
      "max_pooling2d_3 (MaxPooling2 (None, 8, 8, 128)         0         \n",
      "_________________________________________________________________\n",
      "dropout_3 (Dropout)          (None, 8, 8, 128)         0         \n",
      "_________________________________________________________________\n",
      "conv2d_4 (Conv2D)            (None, 8, 8, 256)         295168    \n",
      "_________________________________________________________________\n",
      "activation_4 (Activation)    (None, 8, 8, 256)         0         \n",
      "_________________________________________________________________\n",
      "max_pooling2d_4 (MaxPooling2 (None, 4, 4, 256)         0         \n",
      "_________________________________________________________________\n",
      "dropout_4 (Dropout)          (None, 4, 4, 256)         0         \n",
      "_________________________________________________________________\n",
      "flatten (Flatten)            (None, 4096)              0         \n",
      "_________________________________________________________________\n",
      "dropout_5 (Dropout)          (None, 4096)              0         \n",
      "_________________________________________________________________\n",
      "dense (Dense)                (None, 512)               2097664   \n",
      "_________________________________________________________________\n",
      "dropout_6 (Dropout)          (None, 512)               0         \n",
      "_________________________________________________________________\n",
      "dense_1 (Dense)              (None, 10)                5130      \n",
      "=================================================================\n",
      "Total params: 2,495,114\n",
      "Trainable params: 2,495,114\n",
      "Non-trainable params: 0\n",
      "_________________________________________________________________\n"
     ]
    }
   ],
   "source": [
    "model.summary()"
   ]
  },
  {
   "cell_type": "markdown",
   "metadata": {},
   "source": [
    "### Loss function"
   ]
  },
  {
   "cell_type": "code",
   "execution_count": 16,
   "metadata": {},
   "outputs": [],
   "source": [
    "model.compile(loss=tf.keras.losses.categorical_crossentropy,\n",
    "              optimizer=tf.keras.optimizers.Adam(),\n",
    "              metrics=['accuracy'])"
   ]
  },
  {
   "cell_type": "code",
   "execution_count": 17,
   "metadata": {},
   "outputs": [],
   "source": [
    "reduceLROnPlat = ReduceLROnPlateau(\n",
    "    monitor='val_loss', \n",
    "    factor=0.95,\n",
    "    patience=3,\n",
    "    verbose=1,\n",
    "    mode='min',\n",
    "    min_delta=0.0001,\n",
    "    cooldown=2,\n",
    "    min_lr=1e-5\n",
    ")"
   ]
  },
  {
   "cell_type": "code",
   "execution_count": 18,
   "metadata": {},
   "outputs": [],
   "source": [
    "# Generators\n",
    "batch_size = 128\n",
    "train_generator = GTZANGenerator(X_train, y_train)\n",
    "steps_per_epoch = np.ceil(len(X_train)/batch_size)\n",
    "\n",
    "validation_generator = GTZANGenerator(X_test, y_test)\n",
    "val_steps = np.ceil(len(X_test)/batch_size)"
   ]
  },
  {
   "cell_type": "code",
   "execution_count": 19,
   "metadata": {
    "scrolled": true
   },
   "outputs": [
    {
     "name": "stdout",
     "output_type": "stream",
     "text": [
      "Epoch 1/150\n",
      "214/214 [==============================] - 16s 73ms/step - loss: 7.9670 - accuracy: 0.1060 - val_loss: 3.3254 - val_accuracy: 0.1512\n",
      "Epoch 2/150\n",
      "214/214 [==============================] - 14s 66ms/step - loss: 2.7241 - accuracy: 0.1817 - val_loss: 2.3599 - val_accuracy: 0.2125\n",
      "Epoch 3/150\n",
      "214/214 [==============================] - 14s 66ms/step - loss: 2.3268 - accuracy: 0.1936 - val_loss: 2.2607 - val_accuracy: 0.2147\n",
      "Epoch 4/150\n",
      "214/214 [==============================] - 14s 65ms/step - loss: 2.2475 - accuracy: 0.1760 - val_loss: 2.1048 - val_accuracy: 0.2104\n",
      "Epoch 5/150\n",
      "214/214 [==============================] - 14s 65ms/step - loss: 2.1765 - accuracy: 0.1712 - val_loss: 2.1136 - val_accuracy: 0.1690\n",
      "Epoch 6/150\n",
      "214/214 [==============================] - 14s 63ms/step - loss: 2.1145 - accuracy: 0.2047 - val_loss: 2.0495 - val_accuracy: 0.1938\n",
      "Epoch 7/150\n",
      "214/214 [==============================] - 14s 64ms/step - loss: 2.0977 - accuracy: 0.2190 - val_loss: 2.0104 - val_accuracy: 0.2597\n",
      "Epoch 8/150\n",
      "214/214 [==============================] - 14s 66ms/step - loss: 2.0809 - accuracy: 0.2319 - val_loss: 1.9829 - val_accuracy: 0.2660\n",
      "Epoch 9/150\n",
      "214/214 [==============================] - 14s 66ms/step - loss: 2.0448 - accuracy: 0.2301 - val_loss: 2.0278 - val_accuracy: 0.2036\n",
      "Epoch 10/150\n",
      "214/214 [==============================] - 14s 65ms/step - loss: 2.0400 - accuracy: 0.2223 - val_loss: 1.9371 - val_accuracy: 0.2201\n",
      "Epoch 11/150\n",
      "214/214 [==============================] - 14s 66ms/step - loss: 2.0286 - accuracy: 0.2389 - val_loss: 1.9102 - val_accuracy: 0.2157\n",
      "Epoch 12/150\n",
      "214/214 [==============================] - 14s 65ms/step - loss: 1.9919 - accuracy: 0.2553 - val_loss: 1.9082 - val_accuracy: 0.2712\n",
      "Epoch 13/150\n",
      "214/214 [==============================] - 14s 64ms/step - loss: 1.9485 - accuracy: 0.2614 - val_loss: 1.9313 - val_accuracy: 0.2559\n",
      "Epoch 14/150\n",
      "214/214 [==============================] - 14s 63ms/step - loss: 2.0000 - accuracy: 0.2452 - val_loss: 1.8717 - val_accuracy: 0.2495\n",
      "Epoch 15/150\n",
      "214/214 [==============================] - 14s 64ms/step - loss: 1.9734 - accuracy: 0.2675 - val_loss: 1.8404 - val_accuracy: 0.2741\n",
      "Epoch 16/150\n",
      "214/214 [==============================] - 14s 64ms/step - loss: 1.9171 - accuracy: 0.2742 - val_loss: 1.8788 - val_accuracy: 0.2974\n",
      "Epoch 17/150\n",
      "214/214 [==============================] - 14s 64ms/step - loss: 1.9237 - accuracy: 0.2988 - val_loss: 1.8609 - val_accuracy: 0.2996\n",
      "Epoch 18/150\n",
      "214/214 [==============================] - 14s 63ms/step - loss: 1.9164 - accuracy: 0.2841 - val_loss: 1.8279 - val_accuracy: 0.28911.9599 - accu - ETA: 6s - los - ETA:  - ETA: 1s - loss: 1\n",
      "Epoch 19/150\n",
      "214/214 [==============================] - 14s 63ms/step - loss: 1.8822 - accuracy: 0.3049 - val_loss: 1.9588 - val_accuracy: 0.2717\n",
      "Epoch 20/150\n",
      "214/214 [==============================] - 14s 64ms/step - loss: 1.9182 - accuracy: 0.3020 - val_loss: 1.8090 - val_accuracy: 0.3463\n",
      "Epoch 21/150\n",
      "214/214 [==============================] - 14s 64ms/step - loss: 1.8934 - accuracy: 0.3177 - val_loss: 1.7859 - val_accuracy: 0.3314\n",
      "Epoch 22/150\n",
      "214/214 [==============================] - 14s 64ms/step - loss: 1.9114 - accuracy: 0.3090 - val_loss: 1.7856 - val_accuracy: 0.3067\n",
      "Epoch 23/150\n",
      "214/214 [==============================] - 14s 64ms/step - loss: 1.8505 - accuracy: 0.3221 - val_loss: 1.7803 - val_accuracy: 0.3434s: 1.8515 - ac - ETA: 1s\n",
      "Epoch 24/150\n",
      "214/214 [==============================] - 14s 64ms/step - loss: 1.8514 - accuracy: 0.3145 - val_loss: 1.7475 - val_accuracy: 0.3502\n",
      "Epoch 25/150\n",
      "214/214 [==============================] - 13s 63ms/step - loss: 1.8494 - accuracy: 0.2984 - val_loss: 1.7509 - val_accuracy: 0.3393 loss: 1.8470 - accu\n",
      "Epoch 26/150\n",
      "214/214 [==============================] - 13s 63ms/step - loss: 1.8433 - accuracy: 0.3456 - val_loss: 1.8446 - val_accuracy: 0.3178\n",
      "Epoch 27/150\n",
      "214/214 [==============================] - 14s 66ms/step - loss: 1.8155 - accuracy: 0.3541 - val_loss: 1.7450 - val_accuracy: 0.3719\n",
      "Epoch 28/150\n",
      "214/214 [==============================] - 14s 66ms/step - loss: 1.8141 - accuracy: 0.3394 - val_loss: 1.7023 - val_accuracy: 0.4175\n",
      "Epoch 29/150\n",
      "214/214 [==============================] - 15s 68ms/step - loss: 1.7866 - accuracy: 0.3501 - val_loss: 1.7601 - val_accuracy: 0.3957\n",
      "Epoch 30/150\n",
      "214/214 [==============================] - 15s 68ms/step - loss: 1.7743 - accuracy: 0.3759 - val_loss: 1.7338 - val_accuracy: 0.3993\n",
      "Epoch 31/150\n",
      "214/214 [==============================] - 14s 68ms/step - loss: 1.7356 - accuracy: 0.3798 - val_loss: 1.6585 - val_accuracy: 0.3923\n",
      "Epoch 32/150\n",
      "214/214 [==============================] - 15s 68ms/step - loss: 1.7659 - accuracy: 0.3817 - val_loss: 1.7022 - val_accuracy: 0.3913\n",
      "Epoch 33/150\n",
      "214/214 [==============================] - 14s 68ms/step - loss: 1.7168 - accuracy: 0.4047 - val_loss: 1.6327 - val_accuracy: 0.3922\n",
      "Epoch 34/150\n",
      "214/214 [==============================] - 14s 67ms/step - loss: 1.7661 - accuracy: 0.3752 - val_loss: 1.6221 - val_accuracy: 0.4433\n",
      "Epoch 35/150\n",
      "214/214 [==============================] - 14s 64ms/step - loss: 1.7567 - accuracy: 0.3774 - val_loss: 1.6006 - val_accuracy: 0.4429\n",
      "Epoch 36/150\n",
      "214/214 [==============================] - 14s 65ms/step - loss: 1.7019 - accuracy: 0.4069 - val_loss: 1.5065 - val_accuracy: 0.4924\n",
      "Epoch 37/150\n",
      "214/214 [==============================] - 14s 66ms/step - loss: 1.6326 - accuracy: 0.4322 - val_loss: 1.5537 - val_accuracy: 0.4268\n",
      "Epoch 38/150\n",
      "214/214 [==============================] - 14s 66ms/step - loss: 1.7175 - accuracy: 0.3936 - val_loss: 1.6342 - val_accuracy: 0.4054\n",
      "Epoch 39/150\n",
      "212/214 [============================>.] - ETA: 0s - loss: 1.6712 - accuracy: 0.4040\n",
      "Epoch 00039: ReduceLROnPlateau reducing learning rate to 0.0009500000451225787.\n",
      "214/214 [==============================] - 14s 65ms/step - loss: 1.6698 - accuracy: 0.4052 - val_loss: 1.5908 - val_accuracy: 0.4978\n",
      "Epoch 40/150\n",
      "214/214 [==============================] - 14s 66ms/step - loss: 1.6462 - accuracy: 0.4396 - val_loss: 1.5504 - val_accuracy: 0.4932\n",
      "Epoch 41/150\n",
      "214/214 [==============================] - 14s 65ms/step - loss: 1.6106 - accuracy: 0.4442 - val_loss: 1.5409 - val_accuracy: 0.4591\n",
      "Epoch 42/150\n",
      "214/214 [==============================] - 14s 65ms/step - loss: 1.6252 - accuracy: 0.4453 - val_loss: 1.4944 - val_accuracy: 0.4811\n",
      "Epoch 43/150\n",
      "214/214 [==============================] - 14s 65ms/step - loss: 1.5681 - accuracy: 0.4697 - val_loss: 1.6367 - val_accuracy: 0.4186\n",
      "Epoch 44/150\n",
      "214/214 [==============================] - 14s 65ms/step - loss: 1.6644 - accuracy: 0.4265 - val_loss: 1.4482 - val_accuracy: 0.4915\n",
      "Epoch 45/150\n",
      "214/214 [==============================] - 14s 65ms/step - loss: 1.5960 - accuracy: 0.4723 - val_loss: 1.4631 - val_accuracy: 0.5121\n",
      "Epoch 46/150\n",
      "214/214 [==============================] - 14s 65ms/step - loss: 1.5886 - accuracy: 0.4483 - val_loss: 1.5042 - val_accuracy: 0.4788\n",
      "Epoch 47/150\n",
      "212/214 [============================>.] - ETA: 0s - loss: 1.6167 - accuracy: 0.4451\n",
      "Epoch 00047: ReduceLROnPlateau reducing learning rate to 0.0009025000152178108.\n",
      "214/214 [==============================] - 14s 65ms/step - loss: 1.6177 - accuracy: 0.4434 - val_loss: 1.5493 - val_accuracy: 0.4589\n",
      "Epoch 48/150\n",
      "214/214 [==============================] - 14s 65ms/step - loss: 1.5601 - accuracy: 0.4763 - val_loss: 1.5750 - val_accuracy: 0.4667\n",
      "Epoch 49/150\n",
      "214/214 [==============================] - 14s 65ms/step - loss: 1.5282 - accuracy: 0.4859 - val_loss: 1.4422 - val_accuracy: 0.5172\n",
      "Epoch 50/150\n",
      "214/214 [==============================] - 14s 65ms/step - loss: 1.5719 - accuracy: 0.4829 - val_loss: 1.4582 - val_accuracy: 0.5340\n",
      "Epoch 51/150\n",
      "214/214 [==============================] - 14s 65ms/step - loss: 1.5787 - accuracy: 0.4651 - val_loss: 1.6262 - val_accuracy: 0.4628\n",
      "Epoch 52/150\n",
      "213/214 [============================>.] - ETA: 0s - loss: 1.5508 - accuracy: 0.4981\n",
      "Epoch 00052: ReduceLROnPlateau reducing learning rate to 0.0008573750033974647.\n",
      "214/214 [==============================] - 14s 65ms/step - loss: 1.5483 - accuracy: 0.4989 - val_loss: 1.4542 - val_accuracy: 0.5204\n",
      "Epoch 53/150\n",
      "214/214 [==============================] - 14s 65ms/step - loss: 1.4796 - accuracy: 0.5036 - val_loss: 1.3985 - val_accuracy: 0.5323\n",
      "Epoch 54/150\n",
      "214/214 [==============================] - 14s 65ms/step - loss: 1.5485 - accuracy: 0.4981 - val_loss: 1.4571 - val_accuracy: 0.5121curacy:  - ETA\n",
      "Epoch 55/150\n",
      "214/214 [==============================] - 14s 65ms/step - loss: 1.5175 - accuracy: 0.5091 - val_loss: 1.4023 - val_accuracy: 0.5686\n",
      "Epoch 56/150\n",
      "212/214 [============================>.] - ETA: 0s - loss: 1.4408 - accuracy: 0.5256 ETA: 0s - loss: 1.4431 - accuracy\n",
      "Epoch 00056: ReduceLROnPlateau reducing learning rate to 0.0008145062311086804.\n",
      "214/214 [==============================] - 14s 65ms/step - loss: 1.4410 - accuracy: 0.5262 - val_loss: 1.4457 - val_accuracy: 0.5312\n",
      "Epoch 57/150\n",
      "214/214 [==============================] - 14s 64ms/step - loss: 1.4521 - accuracy: 0.5187 - val_loss: 1.3451 - val_accuracy: 0.5791\n",
      "Epoch 58/150\n",
      "214/214 [==============================] - 14s 65ms/step - loss: 1.4666 - accuracy: 0.5253 - val_loss: 1.3667 - val_accuracy: 0.5754\n",
      "Epoch 59/150\n",
      "214/214 [==============================] - 14s 65ms/step - loss: 1.5014 - accuracy: 0.5138 - val_loss: 1.3141 - val_accuracy: 0.6016\n",
      "Epoch 60/150\n",
      "214/214 [==============================] - 14s 65ms/step - loss: 1.4186 - accuracy: 0.5361 - val_loss: 1.3144 - val_accuracy: 0.5983cy\n",
      "Epoch 61/150\n",
      "214/214 [==============================] - 14s 65ms/step - loss: 1.4445 - accuracy: 0.5374 - val_loss: 1.2955 - val_accuracy: 0.5973\n",
      "Epoch 62/150\n",
      "214/214 [==============================] - 14s 65ms/step - loss: 1.3730 - accuracy: 0.5580 - val_loss: 1.3523 - val_accuracy: 0.5735\n",
      "Epoch 63/150\n",
      "214/214 [==============================] - 14s 65ms/step - loss: 1.4156 - accuracy: 0.5332 - val_loss: 1.3812 - val_accuracy: 0.5722\n",
      "Epoch 64/150\n",
      "213/214 [============================>.] - ETA: 0s - loss: 1.3808 - accuracy: 0.56 - ETA: 0s - loss: 1.3799 - accuracy: 0.5676\n",
      "Epoch 00064: ReduceLROnPlateau reducing learning rate to 0.0007737808919046074.\n",
      "214/214 [==============================] - 14s 64ms/step - loss: 1.3774 - accuracy: 0.5689 - val_loss: 1.2976 - val_accuracy: 0.6005\n",
      "Epoch 65/150\n",
      "214/214 [==============================] - 14s 65ms/step - loss: 1.4632 - accuracy: 0.5337 - val_loss: 1.3976 - val_accuracy: 0.5630\n",
      "Epoch 66/150\n",
      "214/214 [==============================] - 14s 64ms/step - loss: 1.3115 - accuracy: 0.5762 - val_loss: 1.2789 - val_accuracy: 0.5893\n",
      "Epoch 67/150\n",
      "214/214 [==============================] - 14s 64ms/step - loss: 1.3945 - accuracy: 0.5573 - val_loss: 1.2238 - val_accuracy: 0.6118\n",
      "Epoch 68/150\n",
      "214/214 [==============================] - 14s 65ms/step - loss: 1.3873 - accuracy: 0.5556 - val_loss: 1.2963 - val_accuracy: 0.5915\n",
      "Epoch 69/150\n",
      "214/214 [==============================] - 14s 65ms/step - loss: 1.4028 - accuracy: 0.5593 - val_loss: 1.3328 - val_accuracy: 0.5873\n",
      "Epoch 70/150\n",
      "212/214 [============================>.] - ETA: 0s - loss: 1.3526 - accuracy: 0.5754\n",
      "Epoch 00070: ReduceLROnPlateau reducing learning rate to 0.000735091819660738.\n",
      "214/214 [==============================] - 14s 64ms/step - loss: 1.3509 - accuracy: 0.5754 - val_loss: 1.3024 - val_accuracy: 0.5968\n",
      "Epoch 71/150\n",
      "214/214 [==============================] - 14s 65ms/step - loss: 1.3621 - accuracy: 0.5683 - val_loss: 1.2307 - val_accuracy: 0.6260\n",
      "Epoch 72/150\n",
      "214/214 [==============================] - 14s 64ms/step - loss: 1.3141 - accuracy: 0.5880 - val_loss: 1.3519 - val_accuracy: 0.5713\n",
      "Epoch 73/150\n",
      "214/214 [==============================] - 14s 64ms/step - loss: 1.2984 - accuracy: 0.5985 - val_loss: 1.2421 - val_accuracy: 0.6219\n",
      "Epoch 74/150\n",
      "213/214 [============================>.] - ETA: 0s - loss: 1.3435 - accuracy: 0.5870\n",
      "Epoch 00074: ReduceLROnPlateau reducing learning rate to 0.0006983372120885178.\n",
      "214/214 [==============================] - 14s 65ms/step - loss: 1.3461 - accuracy: 0.5861 - val_loss: 1.2365 - val_accuracy: 0.6279\n",
      "Epoch 75/150\n",
      "214/214 [==============================] - 14s 64ms/step - loss: 1.2671 - accuracy: 0.6016 - val_loss: 1.1901 - val_accuracy: 0.6326\n",
      "Epoch 76/150\n",
      "214/214 [==============================] - 14s 65ms/step - loss: 1.2949 - accuracy: 0.6068 - val_loss: 1.1961 - val_accuracy: 0.6517\n",
      "Epoch 77/150\n",
      "214/214 [==============================] - 14s 64ms/step - loss: 1.3069 - accuracy: 0.5925 - val_loss: 1.1749 - val_accuracy: 0.6428\n",
      "Epoch 78/150\n",
      "214/214 [==============================] - 14s 65ms/step - loss: 1.2715 - accuracy: 0.6067 - val_loss: 1.1779 - val_accuracy: 0.6384\n",
      "Epoch 79/150\n",
      "214/214 [==============================] - 14s 65ms/step - loss: 1.2999 - accuracy: 0.5969 - val_loss: 1.2386 - val_accuracy: 0.6189\n",
      "Epoch 80/150\n",
      "213/214 [============================>.] - ETA: 0s - loss: 1.2199 - accuracy: 0.6174\n",
      "Epoch 00080: ReduceLROnPlateau reducing learning rate to 0.0006634203542489559.\n",
      "214/214 [==============================] - 14s 64ms/step - loss: 1.2185 - accuracy: 0.6177 - val_loss: 1.2019 - val_accuracy: 0.6274\n",
      "Epoch 81/150\n",
      "214/214 [==============================] - 14s 65ms/step - loss: 1.2428 - accuracy: 0.6060 - val_loss: 1.2053 - val_accuracy: 0.6208\n",
      "Epoch 82/150\n",
      "214/214 [==============================] - 14s 65ms/step - loss: 1.2418 - accuracy: 0.6268 - val_loss: 1.1778 - val_accuracy: 0.6469\n",
      "Epoch 83/150\n",
      "214/214 [==============================] - 14s 65ms/step - loss: 1.2613 - accuracy: 0.6061 - val_loss: 1.1220 - val_accuracy: 0.6574\n",
      "Epoch 84/150\n",
      "214/214 [==============================] - 14s 65ms/step - loss: 1.2116 - accuracy: 0.6259 - val_loss: 1.1560 - val_accuracy: 0.6435\n",
      "Epoch 85/150\n",
      "214/214 [==============================] - 14s 65ms/step - loss: 1.1671 - accuracy: 0.6476 - val_loss: 1.1243 - val_accuracy: 0.6534\n",
      "Epoch 86/150\n",
      "213/214 [============================>.] - ETA: 0s - loss: 1.2645 - accuracy: 0.6065\n",
      "Epoch 00086: ReduceLROnPlateau reducing learning rate to 0.0006302493420662358.\n",
      "214/214 [==============================] - 14s 65ms/step - loss: 1.2624 - accuracy: 0.6077 - val_loss: 1.1280 - val_accuracy: 0.6557\n",
      "Epoch 87/150\n",
      "214/214 [==============================] - 14s 64ms/step - loss: 1.2843 - accuracy: 0.5991 - val_loss: 1.1075 - val_accuracy: 0.6800\n",
      "Epoch 88/150\n",
      "214/214 [==============================] - 14s 65ms/step - loss: 1.1994 - accuracy: 0.6295 - val_loss: 1.1372 - val_accuracy: 0.6664\n",
      "Epoch 89/150\n",
      "214/214 [==============================] - 14s 65ms/step - loss: 1.2214 - accuracy: 0.6195 - val_loss: 1.1063 - val_accuracy: 0.6636\n",
      "Epoch 90/150\n",
      "214/214 [==============================] - 14s 64ms/step - loss: 1.1979 - accuracy: 0.6324 - val_loss: 1.1869 - val_accuracy: 0.6466\n",
      "Epoch 91/150\n",
      "214/214 [==============================] - 14s 64ms/step - loss: 1.1501 - accuracy: 0.6513 - val_loss: 1.1806 - val_accuracy: 0.6381\n",
      "Epoch 92/150\n",
      "214/214 [==============================] - 14s 64ms/step - loss: 1.2516 - accuracy: 0.6121 - val_loss: 1.0893 - val_accuracy: 0.6763\n",
      "Epoch 93/150\n",
      "214/214 [==============================] - 14s 64ms/step - loss: 1.1608 - accuracy: 0.6465 - val_loss: 1.2424 - val_accuracy: 0.6204\n",
      "Epoch 94/150\n",
      "214/214 [==============================] - 14s 64ms/step - loss: 1.1608 - accuracy: 0.6443 - val_loss: 1.1073 - val_accuracy: 0.6454s: 1.1592 - ac\n",
      "Epoch 95/150\n",
      "212/214 [============================>.] - ETA: 0s - loss: 1.1237 - accuracy: 0.6496 E - ETA\n",
      "Epoch 00095: ReduceLROnPlateau reducing learning rate to 0.0005987368611386045.\n",
      "214/214 [==============================] - 14s 64ms/step - loss: 1.1227 - accuracy: 0.6501 - val_loss: 1.1249 - val_accuracy: 0.6646\n",
      "Epoch 96/150\n",
      "214/214 [==============================] - 14s 64ms/step - loss: 1.2316 - accuracy: 0.6229 - val_loss: 1.1398 - val_accuracy: 0.6719\n",
      "Epoch 97/150\n",
      "214/214 [==============================] - 14s 64ms/step - loss: 1.1050 - accuracy: 0.6617 - val_loss: 1.0951 - val_accuracy: 0.6663\n",
      "Epoch 98/150\n",
      "214/214 [==============================] - 14s 64ms/step - loss: 1.1834 - accuracy: 0.6448 - val_loss: 1.0893 - val_accuracy: 0.6748\n",
      "Epoch 99/150\n",
      "213/214 [============================>.] - ETA: 0s - loss: 1.1715 - accuracy: 0.6308\n",
      "Epoch 00099: ReduceLROnPlateau reducing learning rate to 0.0005688000208465382.\n",
      "214/214 [==============================] - 14s 64ms/step - loss: 1.1736 - accuracy: 0.6296 - val_loss: 1.1429 - val_accuracy: 0.6520\n"
     ]
    },
    {
     "name": "stdout",
     "output_type": "stream",
     "text": [
      "Epoch 100/150\n",
      "214/214 [==============================] - 14s 65ms/step - loss: 1.1137 - accuracy: 0.6617 - val_loss: 1.0427 - val_accuracy: 0.6955\n",
      "Epoch 101/150\n",
      "214/214 [==============================] - 14s 65ms/step - loss: 1.1240 - accuracy: 0.6573 - val_loss: 1.0848 - val_accuracy: 0.6741\n",
      "Epoch 102/150\n",
      "214/214 [==============================] - 14s 65ms/step - loss: 1.1250 - accuracy: 0.6471 - val_loss: 1.1012 - val_accuracy: 0.6807\n",
      "Epoch 103/150\n",
      "212/214 [============================>.] - ETA: 0s - loss: 1.1663 - accuracy: 0.6464\n",
      "Epoch 00103: ReduceLROnPlateau reducing learning rate to 0.0005403600225690752.\n",
      "214/214 [==============================] - 14s 64ms/step - loss: 1.1708 - accuracy: 0.6447 - val_loss: 1.0738 - val_accuracy: 0.6787\n",
      "Epoch 104/150\n",
      "214/214 [==============================] - 14s 64ms/step - loss: 1.1026 - accuracy: 0.6629 - val_loss: 1.0363 - val_accuracy: 0.6858\n",
      "Epoch 105/150\n",
      "214/214 [==============================] - 14s 64ms/step - loss: 1.0789 - accuracy: 0.6742 - val_loss: 1.0715 - val_accuracy: 0.6758s: 1.0687 - accura\n",
      "Epoch 106/150\n",
      "214/214 [==============================] - 14s 64ms/step - loss: 1.1163 - accuracy: 0.6637 - val_loss: 1.0308 - val_accuracy: 0.6872\n",
      "Epoch 107/150\n",
      "214/214 [==============================] - 14s 64ms/step - loss: 1.1002 - accuracy: 0.6604 - val_loss: 1.0655 - val_accuracy: 0.6783\n",
      "Epoch 108/150\n",
      "214/214 [==============================] - 14s 64ms/step - loss: 1.0698 - accuracy: 0.6818 - val_loss: 1.0796 - val_accuracy: 0.6799\n",
      "Epoch 109/150\n",
      "213/214 [============================>.] - ETA: 0s - loss: 1.0765 - accuracy: 0.6695 ETA: 3s - loss: 0\n",
      "Epoch 00109: ReduceLROnPlateau reducing learning rate to 0.0005133419937919825.\n",
      "214/214 [==============================] - 14s 64ms/step - loss: 1.0768 - accuracy: 0.6689 - val_loss: 1.0630 - val_accuracy: 0.6771\n",
      "Epoch 110/150\n",
      "214/214 [==============================] - 14s 64ms/step - loss: 1.1219 - accuracy: 0.6602 - val_loss: 1.0565 - val_accuracy: 0.6858\n",
      "Epoch 111/150\n",
      "214/214 [==============================] - 14s 64ms/step - loss: 1.0740 - accuracy: 0.6751 - val_loss: 1.0143 - val_accuracy: 0.6919\n",
      "Epoch 112/150\n",
      "214/214 [==============================] - 14s 65ms/step - loss: 1.0932 - accuracy: 0.6625 - val_loss: 1.0376 - val_accuracy: 0.6948\n",
      "Epoch 113/150\n",
      "214/214 [==============================] - 14s 64ms/step - loss: 1.0713 - accuracy: 0.6735 - val_loss: 1.0410 - val_accuracy: 0.6846\n",
      "Epoch 114/150\n",
      "213/214 [============================>.] - ETA: 0s - loss: 1.0459 - accuracy: 0.6882\n",
      "Epoch 00114: ReduceLROnPlateau reducing learning rate to 0.0004876748775132.\n",
      "214/214 [==============================] - 14s 63ms/step - loss: 1.0475 - accuracy: 0.6872 - val_loss: 1.0252 - val_accuracy: 0.6897\n",
      "Epoch 115/150\n",
      "214/214 [==============================] - 14s 64ms/step - loss: 1.0946 - accuracy: 0.6663 - val_loss: 1.0041 - val_accuracy: 0.7096\n",
      "Epoch 116/150\n",
      "214/214 [==============================] - 14s 64ms/step - loss: 1.0358 - accuracy: 0.6847 - val_loss: 1.0436 - val_accuracy: 0.6870\n",
      "Epoch 117/150\n",
      "214/214 [==============================] - 14s 64ms/step - loss: 1.0397 - accuracy: 0.6888 - val_loss: 1.0551 - val_accuracy: 0.6707\n",
      "Epoch 118/150\n",
      "213/214 [============================>.] - ETA: 0s - loss: 1.0426 - accuracy: 0.6796\n",
      "Epoch 00118: ReduceLROnPlateau reducing learning rate to 0.00046329112810781223.\n",
      "214/214 [==============================] - 14s 64ms/step - loss: 1.0415 - accuracy: 0.6801 - val_loss: 1.0613 - val_accuracy: 0.6984\n",
      "Epoch 119/150\n",
      "214/214 [==============================] - 14s 64ms/step - loss: 1.0282 - accuracy: 0.6851 - val_loss: 1.0439 - val_accuracy: 0.6863\n",
      "Epoch 120/150\n",
      "214/214 [==============================] - 14s 64ms/step - loss: 1.0490 - accuracy: 0.6863 - val_loss: 1.0236 - val_accuracy: 0.6943\n",
      "Epoch 121/150\n",
      "214/214 [==============================] - 14s 63ms/step - loss: 1.0471 - accuracy: 0.6825 - val_loss: 0.9890 - val_accuracy: 0.7002\n",
      "Epoch 122/150\n",
      "214/214 [==============================] - 14s 64ms/step - loss: 1.0509 - accuracy: 0.6755 - val_loss: 1.0191 - val_accuracy: 0.6928\n",
      "Epoch 123/150\n",
      "214/214 [==============================] - 14s 64ms/step - loss: 1.0368 - accuracy: 0.6824 - val_loss: 1.0555 - val_accuracy: 0.6793\n",
      "Epoch 124/150\n",
      "212/214 [============================>.] - ETA: 0s - loss: 0.9772 - accuracy: 0.7067\n",
      "Epoch 00124: ReduceLROnPlateau reducing learning rate to 0.00044012657308485355.\n",
      "214/214 [==============================] - 14s 64ms/step - loss: 0.9746 - accuracy: 0.7077 - val_loss: 1.0288 - val_accuracy: 0.6967\n",
      "Epoch 125/150\n",
      "214/214 [==============================] - 14s 64ms/step - loss: 1.0395 - accuracy: 0.6805 - val_loss: 1.0484 - val_accuracy: 0.6880\n",
      "Epoch 126/150\n",
      "214/214 [==============================] - 14s 64ms/step - loss: 0.9778 - accuracy: 0.7039 - val_loss: 0.9933 - val_accuracy: 0.7053\n",
      "Epoch 127/150\n",
      "214/214 [==============================] - 14s 64ms/step - loss: 0.9887 - accuracy: 0.6942 - val_loss: 0.9899 - val_accuracy: 0.7019\n",
      "Epoch 128/150\n",
      "212/214 [============================>.] - ETA: 0s - loss: 1.0306 - accuracy: 0.6893\n",
      "Epoch 00128: ReduceLROnPlateau reducing learning rate to 0.00041812024719547477.\n",
      "214/214 [==============================] - 14s 64ms/step - loss: 1.0259 - accuracy: 0.6912 - val_loss: 1.0293 - val_accuracy: 0.6878\n",
      "Epoch 129/150\n",
      "214/214 [==============================] - 14s 65ms/step - loss: 1.0101 - accuracy: 0.7000 - val_loss: 0.9502 - val_accuracy: 0.7201\n",
      "Epoch 130/150\n",
      "214/214 [==============================] - 14s 64ms/step - loss: 0.9707 - accuracy: 0.7024 - val_loss: 0.9720 - val_accuracy: 0.7116\n",
      "Epoch 131/150\n",
      "214/214 [==============================] - 14s 64ms/step - loss: 0.9802 - accuracy: 0.7109 - val_loss: 0.9754 - val_accuracy: 0.7058\n",
      "Epoch 132/150\n",
      "212/214 [============================>.] - ETA: 0s - loss: 0.9946 - accuracy: 0.6970\n",
      "Epoch 00132: ReduceLROnPlateau reducing learning rate to 0.00039721422654110934.\n",
      "214/214 [==============================] - 14s 64ms/step - loss: 0.9911 - accuracy: 0.6988 - val_loss: 1.0044 - val_accuracy: 0.6992\n",
      "Epoch 133/150\n",
      "214/214 [==============================] - 14s 64ms/step - loss: 1.0181 - accuracy: 0.6841 - val_loss: 0.9706 - val_accuracy: 0.7047\n",
      "Epoch 134/150\n",
      "214/214 [==============================] - 14s 64ms/step - loss: 0.9608 - accuracy: 0.7084 - val_loss: 0.9957 - val_accuracy: 0.7150\n",
      "Epoch 135/150\n",
      "214/214 [==============================] - 14s 64ms/step - loss: 0.9545 - accuracy: 0.7136 - val_loss: 0.9933 - val_accuracy: 0.7060\n",
      "Epoch 136/150\n",
      "213/214 [============================>.] - ETA: 0s - loss: 1.0073 - accuracy: 0.7032\n",
      "Epoch 00136: ReduceLROnPlateau reducing learning rate to 0.00037735351797891776.\n",
      "214/214 [==============================] - 14s 64ms/step - loss: 1.0072 - accuracy: 0.7030 - val_loss: 0.9948 - val_accuracy: 0.6958\n",
      "Epoch 137/150\n",
      "214/214 [==============================] - 14s 64ms/step - loss: 0.9688 - accuracy: 0.7079 - val_loss: 0.9992 - val_accuracy: 0.6974\n",
      "Epoch 138/150\n",
      "214/214 [==============================] - 14s 64ms/step - loss: 0.9437 - accuracy: 0.7176 - val_loss: 0.9617 - val_accuracy: 0.7196\n",
      "Epoch 139/150\n",
      "214/214 [==============================] - 14s 64ms/step - loss: 0.9619 - accuracy: 0.7064 - val_loss: 0.9755 - val_accuracy: 0.7014\n",
      "Epoch 140/150\n",
      "214/214 [==============================] - 14s 64ms/step - loss: 0.9912 - accuracy: 0.6997 - val_loss: 0.9467 - val_accuracy: 0.7193\n",
      "Epoch 141/150\n",
      "214/214 [==============================] - 14s 64ms/step - loss: 0.9409 - accuracy: 0.7218 - val_loss: 0.9998 - val_accuracy: 0.7067\n",
      "Epoch 142/150\n",
      "214/214 [==============================] - 14s 64ms/step - loss: 0.9388 - accuracy: 0.7194 - val_loss: 0.9566 - val_accuracy: 0.7147\n",
      "Epoch 143/150\n",
      "213/214 [============================>.] - ETA: 0s - loss: 0.9622 - accuracy: 0.7115 ETA: 1s -\n",
      "Epoch 00143: ReduceLROnPlateau reducing learning rate to 0.00035848583793267607.\n",
      "214/214 [==============================] - 14s 64ms/step - loss: 0.9620 - accuracy: 0.7117 - val_loss: 1.0212 - val_accuracy: 0.6997\n",
      "Epoch 144/150\n",
      "214/214 [==============================] - 14s 64ms/step - loss: 0.9092 - accuracy: 0.7252 - val_loss: 0.9373 - val_accuracy: 0.7189\n",
      "Epoch 145/150\n",
      "214/214 [==============================] - 14s 64ms/step - loss: 0.8926 - accuracy: 0.7353 - val_loss: 1.0077 - val_accuracy: 0.6965\n",
      "Epoch 146/150\n",
      "214/214 [==============================] - 14s 65ms/step - loss: 1.0001 - accuracy: 0.6891 - val_loss: 0.9865 - val_accuracy: 0.7094\n",
      "Epoch 147/150\n",
      "213/214 [============================>.] - ETA: 0s - loss: 0.9724 - accuracy: 0.70 - ETA: 0s - loss: 0.9727 - accuracy: 0.7051\n",
      "Epoch 00147: ReduceLROnPlateau reducing learning rate to 0.00034056155709549785.\n",
      "214/214 [==============================] - 14s 66ms/step - loss: 0.9696 - accuracy: 0.7063 - val_loss: 0.9750 - val_accuracy: 0.7013\n",
      "Epoch 148/150\n",
      "214/214 [==============================] - 14s 65ms/step - loss: 0.8958 - accuracy: 0.7264 - val_loss: 0.9766 - val_accuracy: 0.7084\n",
      "Epoch 149/150\n",
      "214/214 [==============================] - 14s 64ms/step - loss: 0.9480 - accuracy: 0.7115 - val_loss: 0.9455 - val_accuracy: 0.7130\n",
      "Epoch 150/150\n",
      "214/214 [==============================] - 14s 65ms/step - loss: 0.8912 - accuracy: 0.7338 - val_loss: 0.9489 - val_accuracy: 0.7172\n"
     ]
    }
   ],
   "source": [
    "hist = model.fit_generator(\n",
    "    train_generator,\n",
    "    steps_per_epoch=steps_per_epoch,\n",
    "    validation_data=validation_generator,\n",
    "    validation_steps=val_steps,\n",
    "    epochs=150,\n",
    "    verbose=1,\n",
    "    callbacks=[reduceLROnPlat])"
   ]
  },
  {
   "cell_type": "code",
   "execution_count": 20,
   "metadata": {},
   "outputs": [
    {
     "name": "stdout",
     "output_type": "stream",
     "text": [
      "val_loss = 0.964 and val_acc = 0.722\n"
     ]
    }
   ],
   "source": [
    "score = model.evaluate(X_test, y_test, verbose=0)\n",
    "print(\"val_loss = {:.3f} and val_acc = {:.3f}\".format(score[0], score[1]))"
   ]
  },
  {
   "cell_type": "code",
   "execution_count": 21,
   "metadata": {},
   "outputs": [
    {
     "data": {
      "image/png": "[encoded data removed]",
      "text/plain": [
       "<Figure size 1080x504 with 2 Axes>"
      ]
     },
     "metadata": {
      "needs_background": "light"
     },
     "output_type": "display_data"
    }
   ],
   "source": [
    "plt.figure(figsize=(15,7))\n",
    "\n",
    "plt.subplot(1,2,1)\n",
    "plt.plot(hist.history['accuracy'], label='train')\n",
    "plt.plot(hist.history['val_accuracy'], label='validation')\n",
    "plt.title('Accuracy')\n",
    "plt.xlabel('Epochs')\n",
    "plt.ylabel('Accuracy')\n",
    "plt.legend()\n",
    "\n",
    "plt.subplot(1,2,2)\n",
    "plt.plot(hist.history['loss'], label='train')\n",
    "plt.plot(hist.history['val_loss'], label='validation')\n",
    "plt.title('Loss')\n",
    "plt.xlabel('Epochs')\n",
    "plt.ylabel('Loss')\n",
    "plt.legend()\n",
    "\n",
    "plt.tight_layout()\n",
    "plt.show()"
   ]
  },
  {
   "cell_type": "code",
   "execution_count": 22,
   "metadata": {},
   "outputs": [],
   "source": [
    "#http://scikit-learn.org/stable/auto_examples/model_selection/plot_confusion_matrix.html\n",
    "def plot_confusion_matrix(cm, classes,\n",
    "                          normalize=False,\n",
    "                          title='Confusion matrix',\n",
    "                          cmap=plt.cm.Blues):\n",
    "    \"\"\"\n",
    "    This function prints and plots the confusion matrix.\n",
    "    Normalization can be applied by setting `normalize=True`.\n",
    "    \"\"\"\n",
    "    if normalize:\n",
    "        cm = cm.astype('float') / cm.sum(axis=1)[:, np.newaxis]\n",
    "        print(\"Normalized confusion matrix\")\n",
    "    else:\n",
    "        print('Confusion matrix, without normalization')\n",
    "\n",
    "    plt.imshow(cm, interpolation='nearest', cmap=cmap)\n",
    "    plt.title(title)\n",
    "    plt.colorbar()\n",
    "    tick_marks = np.arange(len(classes))\n",
    "    plt.xticks(tick_marks, classes, rotation=45)\n",
    "    plt.yticks(tick_marks, classes)\n",
    "\n",
    "    fmt = '.2f' if normalize else 'd'\n",
    "    thresh = cm.max() / 2.\n",
    "    for i, j in itertools.product(range(cm.shape[0]), range(cm.shape[1])):\n",
    "        plt.text(j, i, format(cm[i, j], fmt),\n",
    "                 horizontalalignment=\"center\",\n",
    "                 color=\"white\" if cm[i, j] > thresh else \"black\")\n",
    "\n",
    "    plt.tight_layout()\n",
    "    plt.ylabel('True label')\n",
    "    plt.xlabel('Predicted label')"
   ]
  },
  {
   "cell_type": "code",
   "execution_count": 23,
   "metadata": {},
   "outputs": [],
   "source": [
    "preds = np.argmax(model.predict(X_test), axis = 1)\n",
    "y_orig = np.argmax(y_test, axis = 1)\n",
    "cm = confusion_matrix(preds, y_orig)"
   ]
  },
  {
   "cell_type": "code",
   "execution_count": 24,
   "metadata": {},
   "outputs": [
    {
     "name": "stdout",
     "output_type": "stream",
     "text": [
      "Normalized confusion matrix\n"
     ]
    },
    {
     "data": {
      "image/png": "[encoded data removed]",
      "text/plain": [
       "<Figure size 720x720 with 2 Axes>"
      ]
     },
     "metadata": {
      "needs_background": "light"
     },
     "output_type": "display_data"
    }
   ],
   "source": [
    "keys = OrderedDict(sorted(genres.items(), key=lambda t: t[1])).keys()\n",
    "\n",
    "plt.figure(figsize=(10,10))\n",
    "plot_confusion_matrix(cm, keys, normalize=True)"
   ]
  },
  {
   "cell_type": "markdown",
   "metadata": {},
   "source": [
    "## Majority Vote"
   ]
  },
  {
   "cell_type": "code",
   "execution_count": 25,
   "metadata": {},
   "outputs": [],
   "source": [
    "def majority_vote(scores):\n",
    "    values, counts = np.unique(scores,return_counts=True)\n",
    "    ind = np.argmax(counts)\n",
    "    return values[ind]"
   ]
  },
  {
   "cell_type": "code",
   "execution_count": 26,
   "metadata": {},
   "outputs": [],
   "source": [
    "preds = model.predict(X_test, batch_size=128, verbose=0)"
   ]
  },
  {
   "cell_type": "code",
   "execution_count": 27,
   "metadata": {},
   "outputs": [],
   "source": [
    "# Each sound was divided into 39 segments in our custom function\n",
    "scores_songs = np.split(np.argmax(preds, axis=1), 300)\n",
    "scores_songs = [majority_vote(scores) for scores in scores_songs]"
   ]
  },
  {
   "cell_type": "code",
   "execution_count": 28,
   "metadata": {},
   "outputs": [],
   "source": [
    "# Same analysis for split\n",
    "label = np.split(np.argmax(y_test, axis=1), 300)\n",
    "label = [majority_vote(l) for l in label]"
   ]
  },
  {
   "cell_type": "code",
   "execution_count": 29,
   "metadata": {},
   "outputs": [
    {
     "name": "stdout",
     "output_type": "stream",
     "text": [
      "majority voting system (acc) = 0.820\n"
     ]
    }
   ],
   "source": [
    "from sklearn.metrics import accuracy_score\n",
    "\n",
    "print(\"majority voting system (acc) = {:.3f}\".format(accuracy_score(label, scores_songs)))"
   ]
  },
  {
   "cell_type": "markdown",
   "metadata": {},
   "source": [
    "Compared to the classical approach, we are winning now!\n",
    "\n",
    "We passed from a 78.8% accuracy to **82%**. It is not a great improvement but this is a really simple architecture."
   ]
  },
  {
   "cell_type": "markdown",
   "metadata": {},
   "source": [
    "## Save the model"
   ]
  },
  {
   "cell_type": "code",
   "execution_count": 30,
   "metadata": {},
   "outputs": [],
   "source": [
    "# Save the model\n",
    "model.save('../models/custom_cnn_2d.h5')"
   ]
  }
 ],
 "metadata": {
  "kernelspec": {
   "display_name": "Python 3",
   "language": "python",
   "name": "python3"
  },
  "language_info": {
   "codemirror_mode": {
    "name": "ipython",
    "version": 3
   },
   "file_extension": ".py",
   "mimetype": "text/x-python",
   "name": "python",
   "nbconvert_exporter": "python",
   "pygments_lexer": "ipython3",
   "version": "3.7.3"
  }
 },
 "nbformat": 4,
 "nbformat_minor": 2
}
