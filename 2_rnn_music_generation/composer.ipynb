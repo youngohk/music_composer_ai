{
 "cells": [
  {
   "cell_type": "markdown",
   "metadata": {},
   "source": [
    "https://medium.com/intel-student-ambassadors/music-generation-using-lstms-in-keras-9ded32835a8f"
   ]
  },
  {
   "cell_type": "markdown",
   "metadata": {},
   "source": []
  },
  {
   "cell_type": "code",
   "execution_count": 7,
   "metadata": {},
   "outputs": [],
   "source": [
    "import numpy as np\n",
    "import pandas as pd\n",
    "import pydub\n",
    "from os import path\n",
    "import os\n",
    "import glob"
   ]
  },
  {
   "cell_type": "code",
   "execution_count": 5,
   "metadata": {},
   "outputs": [
    {
     "name": "stdout",
     "output_type": "stream",
     "text": [
      "\u001b[33mWARNING: The directory '/Users/jongphilkim/Library/Caches/pip' or its parent directory is not owned or is not writable by the current user. The cache has been disabled. Check the permissions and owner of that directory. If executing pip with sudo, you may want sudo's -H flag.\u001b[0m\r\n",
      "Requirement already satisfied: pydub in /Users/jongphilkim/Desktop/license/fcdjango_venv/lib/python3.7/site-packages (0.23.1)\r\n"
     ]
    }
   ],
   "source": [
    "!pip3 install pydub"
   ]
  },
  {
   "cell_type": "code",
   "execution_count": 8,
   "metadata": {
    "scrolled": true
   },
   "outputs": [
    {
     "name": "stderr",
     "output_type": "stream",
     "text": [
      "Using TensorFlow backend.\n"
     ]
    }
   ],
   "source": [
    "from keras.layers import Dense, LSTM, LeakyReLU\n",
    "from keras.models import Sequential, load_model\n",
    "from scipy.io.wavfile import read, write\n",
    "from tqdm import tqdm"
   ]
  },
  {
   "cell_type": "code",
   "execution_count": 25,
   "metadata": {},
   "outputs": [
    {
     "name": "stdout",
     "output_type": "stream",
     "text": [
      "music_data/Jazz/Duke Ellington - Caravan.mp3\n",
      "music_data/Jazz/Dave Brubeck - Take Five.mp3\n",
      "music_data/Jazz/The Roy Hargrove Quintet - I'm not so sure.mp3\n",
      "music_data/Jazz/test.mp3\n",
      "music_data/Jazz/Roy Hargrove - Strasbourg St. Denis Studio version.mp3\n",
      "music_data/Jazz/Charlie Parker - Summertime.mp3\n",
      "music_data/Jazz/Thelonius Monk-Monk's Dream (Take 8) from Monk's Dream LP.mp3\n",
      "music_data/Jazz/Roy Hargrove Starmaker.mp3\n",
      "music_data/Jazz/Blue Bossa -Dexter Gordon.mp3\n",
      "music_data/Jazz/Chick Corea Spain.mp3\n",
      "music_data/Jazz/Stan Getz & Joao Gilberto - The Girl From Ipanema.mp3\n",
      "music_data/Jazz/Stan Getz - Misty.mp3\n",
      "WAV Conversion Complete\n"
     ]
    }
   ],
   "source": [
    "#### mp3 ---> WAV로 변환\n",
    "\n",
    "from pydub import AudioSegment\n",
    "\n",
    "mp3_files = glob.glob('music_data/Jazz/*.mp3')\n",
    "\n",
    "for mp3_file  in mp3_files:\n",
    "    wav_file = os.path.splitext(mp3_file)[0] + '.wav'\n",
    "    sound = pydub.AudioSegment.from_mp3(mp3_file)\n",
    "    sound.export(wav_file, format=\"wav\")\n",
    "    print(mp3_file)\n",
    "print(\"WAV Conversion Complete\")\n",
    "\n"
   ]
  },
  {
   "cell_type": "code",
   "execution_count": 16,
   "metadata": {},
   "outputs": [
    {
     "name": "stdout",
     "output_type": "stream",
     "text": [
      "[\"music_data/Jazz/Thelonius Monk-Monk's Dream (Take 8) from Monk's Dream LP.wav\", 'music_data/Jazz/Roy Hargrove Starmaker.wav', 'music_data/Jazz/Blue Bossa -Dexter Gordon.wav', 'music_data/Jazz/Chick Corea Spain.wav', 'music_data/Jazz/Stan Getz & Joao Gilberto - The Girl From Ipanema.wav', 'music_data/Jazz/Stan Getz - Misty.wav', 'music_data/Jazz/Duke Ellington - Caravan.wav', 'music_data/Jazz/Dave Brubeck - Take Five.wav', \"music_data/Jazz/The Roy Hargrove Quintet - I'm not so sure.wav\", \"music_data/Jazz/Billie's Bounce Charlie Parker\\u3000The Savoy Recordings.wav\", 'music_data/Jazz/Roy Hargrove - Strasbourg St. Denis Studio version.wav', 'music_data/Jazz/Charlie Parker - Summertime.wav']\n"
     ]
    }
   ],
   "source": [
    "wav_files = glob.glob('music_data/Jazz/*.wav')\n",
    "print(wav_files[:])"
   ]
  },
  {
   "cell_type": "code",
   "execution_count": 18,
   "metadata": {},
   "outputs": [],
   "source": [
    "rate, music1 = read(wav_files[0])\n",
    "rate, music2 = read(wav_files[1])"
   ]
  },
  {
   "cell_type": "code",
   "execution_count": 19,
   "metadata": {},
   "outputs": [],
   "source": [
    "# taking only some part of the songs and converting to a dataframe\n",
    "music1 = pd.DataFrame(music1[0:400000, :])\n",
    "music2 = pd.DataFrame(music2[0:400000, :])"
   ]
  },
  {
   "cell_type": "code",
   "execution_count": 20,
   "metadata": {},
   "outputs": [
    {
     "data": {
      "text/html": [
       "<div>\n",
       "<style scoped>\n",
       "    .dataframe tbody tr th:only-of-type {\n",
       "        vertical-align: middle;\n",
       "    }\n",
       "\n",
       "    .dataframe tbody tr th {\n",
       "        vertical-align: top;\n",
       "    }\n",
       "\n",
       "    .dataframe thead th {\n",
       "        text-align: right;\n",
       "    }\n",
       "</style>\n",
       "<table border=\"1\" class=\"dataframe\">\n",
       "  <thead>\n",
       "    <tr style=\"text-align: right;\">\n",
       "      <th></th>\n",
       "      <th>0</th>\n",
       "      <th>1</th>\n",
       "    </tr>\n",
       "  </thead>\n",
       "  <tbody>\n",
       "    <tr>\n",
       "      <td>0</td>\n",
       "      <td>0</td>\n",
       "      <td>0</td>\n",
       "    </tr>\n",
       "    <tr>\n",
       "      <td>1</td>\n",
       "      <td>0</td>\n",
       "      <td>0</td>\n",
       "    </tr>\n",
       "    <tr>\n",
       "      <td>2</td>\n",
       "      <td>0</td>\n",
       "      <td>0</td>\n",
       "    </tr>\n",
       "    <tr>\n",
       "      <td>3</td>\n",
       "      <td>0</td>\n",
       "      <td>0</td>\n",
       "    </tr>\n",
       "    <tr>\n",
       "      <td>4</td>\n",
       "      <td>0</td>\n",
       "      <td>0</td>\n",
       "    </tr>\n",
       "  </tbody>\n",
       "</table>\n",
       "</div>"
      ],
      "text/plain": [
       "   0  1\n",
       "0  0  0\n",
       "1  0  0\n",
       "2  0  0\n",
       "3  0  0\n",
       "4  0  0"
      ]
     },
     "execution_count": 20,
     "metadata": {},
     "output_type": "execute_result"
    }
   ],
   "source": [
    "music1.head()"
   ]
  },
  {
   "cell_type": "code",
   "execution_count": 21,
   "metadata": {},
   "outputs": [
    {
     "data": {
      "text/html": [
       "<div>\n",
       "<style scoped>\n",
       "    .dataframe tbody tr th:only-of-type {\n",
       "        vertical-align: middle;\n",
       "    }\n",
       "\n",
       "    .dataframe tbody tr th {\n",
       "        vertical-align: top;\n",
       "    }\n",
       "\n",
       "    .dataframe thead th {\n",
       "        text-align: right;\n",
       "    }\n",
       "</style>\n",
       "<table border=\"1\" class=\"dataframe\">\n",
       "  <thead>\n",
       "    <tr style=\"text-align: right;\">\n",
       "      <th></th>\n",
       "      <th>0</th>\n",
       "      <th>1</th>\n",
       "    </tr>\n",
       "  </thead>\n",
       "  <tbody>\n",
       "    <tr>\n",
       "      <td>399995</td>\n",
       "      <td>371</td>\n",
       "      <td>47</td>\n",
       "    </tr>\n",
       "    <tr>\n",
       "      <td>399996</td>\n",
       "      <td>380</td>\n",
       "      <td>11</td>\n",
       "    </tr>\n",
       "    <tr>\n",
       "      <td>399997</td>\n",
       "      <td>353</td>\n",
       "      <td>25</td>\n",
       "    </tr>\n",
       "    <tr>\n",
       "      <td>399998</td>\n",
       "      <td>360</td>\n",
       "      <td>107</td>\n",
       "    </tr>\n",
       "    <tr>\n",
       "      <td>399999</td>\n",
       "      <td>388</td>\n",
       "      <td>100</td>\n",
       "    </tr>\n",
       "  </tbody>\n",
       "</table>\n",
       "</div>"
      ],
      "text/plain": [
       "          0    1\n",
       "399995  371   47\n",
       "399996  380   11\n",
       "399997  353   25\n",
       "399998  360  107\n",
       "399999  388  100"
      ]
     },
     "execution_count": 21,
     "metadata": {},
     "output_type": "execute_result"
    }
   ],
   "source": [
    "music2.tail()"
   ]
  },
  {
   "cell_type": "code",
   "execution_count": 22,
   "metadata": {},
   "outputs": [],
   "source": [
    "# function to create train data by shifting the music data \n",
    "def create_train_dataset(df, look_back):\n",
    "    dataX1, dataX2 , dataY1 , dataY2 = [],[],[],[]\n",
    "    for i in range(len(df)-look_back-1):\n",
    "        dataX1.append(df.iloc[i : i + look_back, 0].values)\n",
    "        dataX2.append(df.iloc[i : i + look_back, 1].values)\n",
    "        dataY1.append(df.iloc[i + look_back, 0])\n",
    "        dataY2.append(df.iloc[i + look_back, 1])\n",
    "    return np.array(dataX1), np.array(dataX2), np.array(dataY1), np.array(dataY2)"
   ]
  },
  {
   "cell_type": "code",
   "execution_count": 23,
   "metadata": {},
   "outputs": [],
   "source": [
    "X1 , X2, y1 , y2 = create_train_dataset(pd.concat([music1.iloc[0 : 160000, :],music2.iloc[0 : 160000, :]], axis=0), 3)"
   ]
  },
  {
   "cell_type": "code",
   "execution_count": 24,
   "metadata": {},
   "outputs": [
    {
     "name": "stdout",
     "output_type": "stream",
     "text": [
      "(319996, 3)\n",
      "(319996, 3)\n",
      "(319996,)\n",
      "(319996,)\n"
     ]
    }
   ],
   "source": [
    "print(X1.shape)\n",
    "print(X2.shape)\n",
    "print(y1.shape)\n",
    "print(y2.shape)"
   ]
  },
  {
   "cell_type": "code",
   "execution_count": 11,
   "metadata": {},
   "outputs": [],
   "source": [
    "# function to create train data by shifting the music data\n",
    "def create_test_data(df, look_back):\n",
    "    dataX1, dataX2 = [], []\n",
    "    for i in range(len(df)-look_back-1):\n",
    "        dataX1.append(df.iloc[i : i + look_back, 0].values)\n",
    "        dataX2.append(df.iloc[i : i + look_back, 1].values)\n",
    "        \n",
    "    return np.array(dataX1), np.array(dataX2)"
   ]
  },
  {
   "cell_type": "code",
   "execution_count": 13,
   "metadata": {},
   "outputs": [],
   "source": [
    "test1, test2 = create_test_data(pd.concat([music1.iloc[160001 : 400000, :],music2.iloc[160001 : 400000, :]], axis=0), 3)"
   ]
  },
  {
   "cell_type": "code",
   "execution_count": 14,
   "metadata": {},
   "outputs": [],
   "source": [
    "X1 = X1.reshape((-1, 1, 3))\n",
    "X2 = X2.reshape((-1, 1, 3))"
   ]
  },
  {
   "cell_type": "code",
   "execution_count": 13,
   "metadata": {},
   "outputs": [
    {
     "name": "stdout",
     "output_type": "stream",
     "text": [
      "WARNING:tensorflow:From C:\\Users\\82107\\Anaconda3\\envs\\keras\\lib\\site-packages\\keras\\backend\\tensorflow_backend.py:74: The name tf.get_default_graph is deprecated. Please use tf.compat.v1.get_default_graph instead.\n",
      "\n",
      "WARNING:tensorflow:From C:\\Users\\82107\\Anaconda3\\envs\\keras\\lib\\site-packages\\keras\\backend\\tensorflow_backend.py:517: The name tf.placeholder is deprecated. Please use tf.compat.v1.placeholder instead.\n",
      "\n",
      "WARNING:tensorflow:From C:\\Users\\82107\\Anaconda3\\envs\\keras\\lib\\site-packages\\keras\\backend\\tensorflow_backend.py:4138: The name tf.random_uniform is deprecated. Please use tf.random.uniform instead.\n",
      "\n",
      "WARNING:tensorflow:From C:\\Users\\82107\\Anaconda3\\envs\\keras\\lib\\site-packages\\keras\\optimizers.py:790: The name tf.train.Optimizer is deprecated. Please use tf.compat.v1.train.Optimizer instead.\n",
      "\n",
      "WARNING:tensorflow:From C:\\Users\\82107\\Anaconda3\\envs\\keras\\lib\\site-packages\\tensorflow_core\\python\\ops\\math_grad.py:1424: where (from tensorflow.python.ops.array_ops) is deprecated and will be removed in a future version.\n",
      "Instructions for updating:\n",
      "Use tf.where in 2.0, which has the same broadcast rule as np.where\n",
      "WARNING:tensorflow:From C:\\Users\\82107\\Anaconda3\\envs\\keras\\lib\\site-packages\\keras\\backend\\tensorflow_backend.py:986: The name tf.assign_add is deprecated. Please use tf.compat.v1.assign_add instead.\n",
      "\n",
      "WARNING:tensorflow:From C:\\Users\\82107\\Anaconda3\\envs\\keras\\lib\\site-packages\\keras\\backend\\tensorflow_backend.py:973: The name tf.assign is deprecated. Please use tf.compat.v1.assign instead.\n",
      "\n",
      "WARNING:tensorflow:From C:\\Users\\82107\\Anaconda3\\envs\\keras\\lib\\site-packages\\keras\\backend\\tensorflow_backend.py:2741: The name tf.Session is deprecated. Please use tf.compat.v1.Session instead.\n",
      "\n",
      "Epoch 1/20\n",
      "WARNING:tensorflow:From C:\\Users\\82107\\Anaconda3\\envs\\keras\\lib\\site-packages\\keras\\backend\\tensorflow_backend.py:174: The name tf.get_default_session is deprecated. Please use tf.compat.v1.get_default_session instead.\n",
      "\n",
      "WARNING:tensorflow:From C:\\Users\\82107\\Anaconda3\\envs\\keras\\lib\\site-packages\\keras\\backend\\tensorflow_backend.py:181: The name tf.ConfigProto is deprecated. Please use tf.compat.v1.ConfigProto instead.\n",
      "\n",
      "WARNING:tensorflow:From C:\\Users\\82107\\Anaconda3\\envs\\keras\\lib\\site-packages\\keras\\backend\\tensorflow_backend.py:190: The name tf.global_variables is deprecated. Please use tf.compat.v1.global_variables instead.\n",
      "\n",
      "WARNING:tensorflow:From C:\\Users\\82107\\Anaconda3\\envs\\keras\\lib\\site-packages\\keras\\backend\\tensorflow_backend.py:199: The name tf.is_variable_initialized is deprecated. Please use tf.compat.v1.is_variable_initialized instead.\n",
      "\n",
      "WARNING:tensorflow:From C:\\Users\\82107\\Anaconda3\\envs\\keras\\lib\\site-packages\\keras\\backend\\tensorflow_backend.py:206: The name tf.variables_initializer is deprecated. Please use tf.compat.v1.variables_initializer instead.\n",
      "\n",
      "319996/319996 [==============================] - 24s 76us/step - loss: 57554.1367\n",
      "Epoch 2/20\n",
      "319996/319996 [==============================] - 21s 66us/step - loss: 35644.5779\n",
      "Epoch 3/20\n",
      "319996/319996 [==============================] - 21s 65us/step - loss: 35157.3996\n",
      "Epoch 4/20\n",
      "319996/319996 [==============================] - 20s 63us/step - loss: 34715.7720\n",
      "Epoch 5/20\n",
      "319996/319996 [==============================] - 20s 64us/step - loss: 34632.6719\n",
      "Epoch 6/20\n",
      "319996/319996 [==============================] - 20s 63us/step - loss: 34248.3890\n",
      "Epoch 7/20\n",
      "319996/319996 [==============================] - 21s 65us/step - loss: 34373.5632\n",
      "Epoch 8/20\n",
      "319996/319996 [==============================] - 21s 66us/step - loss: 34296.2050\n",
      "Epoch 9/20\n",
      "319996/319996 [==============================] - 21s 66us/step - loss: 34175.0817\n",
      "Epoch 10/20\n",
      "319996/319996 [==============================] - 21s 64us/step - loss: 33955.5031\n",
      "Epoch 11/20\n",
      "319996/319996 [==============================] - 20s 64us/step - loss: 33942.6228\n",
      "Epoch 12/20\n",
      "319996/319996 [==============================] - 20s 64us/step - loss: 33921.0148\n",
      "Epoch 13/20\n",
      "319996/319996 [==============================] - 20s 64us/step - loss: 33838.3455\n",
      "Epoch 14/20\n",
      "319996/319996 [==============================] - 21s 64us/step - loss: 33840.5754\n",
      "Epoch 15/20\n",
      "319996/319996 [==============================] - 21s 64us/step - loss: 33822.3560\n",
      "Epoch 16/20\n",
      "319996/319996 [==============================] - 21s 64us/step - loss: 33698.6978\n",
      "Epoch 17/20\n",
      "319996/319996 [==============================] - 21s 66us/step - loss: 33635.5317\n",
      "Epoch 18/20\n",
      "319996/319996 [==============================] - 21s 66us/step - loss: 33602.7003\n",
      "Epoch 19/20\n",
      "319996/319996 [==============================] - 21s 64us/step - loss: 33705.8846\n",
      "Epoch 20/20\n",
      "319996/319996 [==============================] - 20s 64us/step - loss: 33648.0088\n"
     ]
    },
    {
     "data": {
      "text/plain": [
       "<keras.callbacks.History at 0x299bbb45cf8>"
      ]
     },
     "execution_count": 13,
     "metadata": {},
     "output_type": "execute_result"
    }
   ],
   "source": [
    "# LSTM Model for channel 1 of the music data\n",
    "rnn1 = Sequential()\n",
    "rnn1.add(LSTM(units=100, activation='linear', input_shape=(None, 3)))\n",
    "rnn1.add(LeakyReLU())\n",
    "rnn1.add(Dense(units=50, activation='linear'))\n",
    "rnn1.add(LeakyReLU())\n",
    "rnn1.add(Dense(units=25, activation='linear'))\n",
    "rnn1.add(LeakyReLU())\n",
    "rnn1.add(Dense(units=12, activation='linear'))\n",
    "rnn1.add(LeakyReLU())\n",
    "rnn1.add(Dense(units=1, activation='linear'))\n",
    "rnn1.add(LeakyReLU())\n",
    "\n",
    "rnn1.compile(optimizer='adam', loss='mean_squared_error')\n",
    "rnn1.fit(X1, y1, epochs=20, batch_size=100)"
   ]
  },
  {
   "cell_type": "code",
   "execution_count": 15,
   "metadata": {},
   "outputs": [
    {
     "name": "stdout",
     "output_type": "stream",
     "text": [
      "WARNING:tensorflow:From C:\\Users\\82107\\Anaconda3\\envs\\keras\\lib\\site-packages\\keras\\backend\\tensorflow_backend.py:74: The name tf.get_default_graph is deprecated. Please use tf.compat.v1.get_default_graph instead.\n",
      "\n",
      "WARNING:tensorflow:From C:\\Users\\82107\\Anaconda3\\envs\\keras\\lib\\site-packages\\keras\\backend\\tensorflow_backend.py:517: The name tf.placeholder is deprecated. Please use tf.compat.v1.placeholder instead.\n",
      "\n",
      "WARNING:tensorflow:From C:\\Users\\82107\\Anaconda3\\envs\\keras\\lib\\site-packages\\keras\\backend\\tensorflow_backend.py:4138: The name tf.random_uniform is deprecated. Please use tf.random.uniform instead.\n",
      "\n",
      "WARNING:tensorflow:From C:\\Users\\82107\\Anaconda3\\envs\\keras\\lib\\site-packages\\keras\\optimizers.py:790: The name tf.train.Optimizer is deprecated. Please use tf.compat.v1.train.Optimizer instead.\n",
      "\n",
      "WARNING:tensorflow:From C:\\Users\\82107\\Anaconda3\\envs\\keras\\lib\\site-packages\\tensorflow_core\\python\\ops\\math_grad.py:1424: where (from tensorflow.python.ops.array_ops) is deprecated and will be removed in a future version.\n",
      "Instructions for updating:\n",
      "Use tf.where in 2.0, which has the same broadcast rule as np.where\n",
      "WARNING:tensorflow:From C:\\Users\\82107\\Anaconda3\\envs\\keras\\lib\\site-packages\\keras\\backend\\tensorflow_backend.py:986: The name tf.assign_add is deprecated. Please use tf.compat.v1.assign_add instead.\n",
      "\n",
      "WARNING:tensorflow:From C:\\Users\\82107\\Anaconda3\\envs\\keras\\lib\\site-packages\\keras\\backend\\tensorflow_backend.py:973: The name tf.assign is deprecated. Please use tf.compat.v1.assign instead.\n",
      "\n",
      "WARNING:tensorflow:From C:\\Users\\82107\\Anaconda3\\envs\\keras\\lib\\site-packages\\keras\\backend\\tensorflow_backend.py:2741: The name tf.Session is deprecated. Please use tf.compat.v1.Session instead.\n",
      "\n",
      "Epoch 1/20\n",
      "WARNING:tensorflow:From C:\\Users\\82107\\Anaconda3\\envs\\keras\\lib\\site-packages\\keras\\backend\\tensorflow_backend.py:174: The name tf.get_default_session is deprecated. Please use tf.compat.v1.get_default_session instead.\n",
      "\n",
      "WARNING:tensorflow:From C:\\Users\\82107\\Anaconda3\\envs\\keras\\lib\\site-packages\\keras\\backend\\tensorflow_backend.py:181: The name tf.ConfigProto is deprecated. Please use tf.compat.v1.ConfigProto instead.\n",
      "\n",
      "WARNING:tensorflow:From C:\\Users\\82107\\Anaconda3\\envs\\keras\\lib\\site-packages\\keras\\backend\\tensorflow_backend.py:190: The name tf.global_variables is deprecated. Please use tf.compat.v1.global_variables instead.\n",
      "\n",
      "WARNING:tensorflow:From C:\\Users\\82107\\Anaconda3\\envs\\keras\\lib\\site-packages\\keras\\backend\\tensorflow_backend.py:199: The name tf.is_variable_initialized is deprecated. Please use tf.compat.v1.is_variable_initialized instead.\n",
      "\n",
      "WARNING:tensorflow:From C:\\Users\\82107\\Anaconda3\\envs\\keras\\lib\\site-packages\\keras\\backend\\tensorflow_backend.py:206: The name tf.variables_initializer is deprecated. Please use tf.compat.v1.variables_initializer instead.\n",
      "\n",
      "319996/319996 [==============================] - 24s 75us/step - loss: 57669.4946\n",
      "Epoch 2/20\n",
      "319996/319996 [==============================] - 20s 63us/step - loss: 39918.4276\n",
      "Epoch 3/20\n",
      "319996/319996 [==============================] - 20s 63us/step - loss: 39552.2443\n",
      "Epoch 4/20\n",
      "319996/319996 [==============================] - 20s 63us/step - loss: 39492.4526\n",
      "Epoch 5/20\n",
      "319996/319996 [==============================] - 20s 63us/step - loss: 39314.4789\n",
      "Epoch 6/20\n",
      "319996/319996 [==============================] - 20s 63us/step - loss: 39257.8509\n",
      "Epoch 7/20\n",
      "319996/319996 [==============================] - 20s 64us/step - loss: 38789.5924\n",
      "Epoch 8/20\n",
      "319996/319996 [==============================] - 20s 63us/step - loss: 38711.2957\n",
      "Epoch 9/20\n",
      "319996/319996 [==============================] - 20s 64us/step - loss: 38448.3844\n",
      "Epoch 10/20\n",
      "319996/319996 [==============================] - 20s 64us/step - loss: 38438.5283\n",
      "Epoch 11/20\n",
      "319996/319996 [==============================] - 20s 63us/step - loss: 38315.8194\n",
      "Epoch 12/20\n",
      "319996/319996 [==============================] - 20s 64us/step - loss: 38546.0720\n",
      "Epoch 13/20\n",
      "319996/319996 [==============================] - 20s 63us/step - loss: 38208.8570\n",
      "Epoch 14/20\n",
      "319996/319996 [==============================] - 20s 63us/step - loss: 38156.8821\n",
      "Epoch 15/20\n",
      "319996/319996 [==============================] - 20s 64us/step - loss: 38105.2417\n",
      "Epoch 16/20\n",
      "319996/319996 [==============================] - 20s 63us/step - loss: 38123.7512\n",
      "Epoch 17/20\n",
      "319996/319996 [==============================] - 20s 63us/step - loss: 37830.9938\n",
      "Epoch 18/20\n",
      "319996/319996 [==============================] - 20s 62us/step - loss: 37888.0928\n",
      "Epoch 19/20\n",
      "319996/319996 [==============================] - 20s 63us/step - loss: 37978.9501\n",
      "Epoch 20/20\n",
      "319996/319996 [==============================] - 20s 63us/step - loss: 38072.2963\n"
     ]
    },
    {
     "data": {
      "text/plain": [
       "<keras.callbacks.History at 0x285a516ce48>"
      ]
     },
     "execution_count": 15,
     "metadata": {},
     "output_type": "execute_result"
    }
   ],
   "source": [
    "# LSTM Model for channel 2 of the music data\n",
    "rnn2 = Sequential()\n",
    "rnn2.add(LSTM(units=100, activation='linear', input_shape=(None, 3)))\n",
    "rnn2.add(LeakyReLU())\n",
    "rnn2.add(Dense(units=50, activation='linear'))\n",
    "rnn2.add(LeakyReLU())\n",
    "rnn2.add(Dense(units=25, activation='linear'))\n",
    "rnn2.add(LeakyReLU())\n",
    "rnn2.add(Dense(units=12, activation='linear'))\n",
    "rnn2.add(LeakyReLU())\n",
    "rnn2.add(Dense(units=1, activation='linear'))\n",
    "rnn2.add(LeakyReLU())\n",
    "\n",
    "rnn2.compile(optimizer='adam', loss='mean_squared_error')\n",
    "rnn2.fit(X2, y2, epochs=20, batch_size=100)"
   ]
  },
  {
   "cell_type": "code",
   "execution_count": 16,
   "metadata": {},
   "outputs": [
    {
     "ename": "NameError",
     "evalue": "name 'rnn1' is not defined",
     "output_type": "error",
     "traceback": [
      "\u001b[1;31m---------------------------------------------------------------------------\u001b[0m",
      "\u001b[1;31mNameError\u001b[0m                                 Traceback (most recent call last)",
      "\u001b[1;32m<ipython-input-16-ad92ec764583>\u001b[0m in \u001b[0;36m<module>\u001b[1;34m\u001b[0m\n\u001b[0;32m      1\u001b[0m \u001b[1;31m# saving LSTM models\u001b[0m\u001b[1;33m\u001b[0m\u001b[1;33m\u001b[0m\u001b[1;33m\u001b[0m\u001b[0m\n\u001b[1;32m----> 2\u001b[1;33m \u001b[0mrnn1\u001b[0m\u001b[1;33m.\u001b[0m\u001b[0mmodel\u001b[0m\u001b[1;33m.\u001b[0m\u001b[0msave\u001b[0m\u001b[1;33m(\u001b[0m\u001b[1;34m'rnn1.h5'\u001b[0m\u001b[1;33m)\u001b[0m\u001b[1;33m\u001b[0m\u001b[1;33m\u001b[0m\u001b[0m\n\u001b[0m\u001b[0;32m      3\u001b[0m \u001b[0mrnn2\u001b[0m\u001b[1;33m.\u001b[0m\u001b[0mmodel\u001b[0m\u001b[1;33m.\u001b[0m\u001b[0msave\u001b[0m\u001b[1;33m(\u001b[0m\u001b[1;34m'rnn2.h5'\u001b[0m\u001b[1;33m)\u001b[0m\u001b[1;33m\u001b[0m\u001b[1;33m\u001b[0m\u001b[0m\n",
      "\u001b[1;31mNameError\u001b[0m: name 'rnn1' is not defined"
     ]
    }
   ],
   "source": [
    "# saving LSTM models\n",
    "rnn1.model.save('rnn1.h5')\n",
    "rnn2.model.save('rnn2.h5')"
   ]
  },
  {
   "cell_type": "code",
   "execution_count": null,
   "metadata": {},
   "outputs": [],
   "source": [
    "# loading the saved models\n",
    "rnn1 = load_model('rnn1.h5')\n",
    "rnn2 = load_model('rnn2.h5')"
   ]
  },
  {
   "cell_type": "code",
   "execution_count": null,
   "metadata": {},
   "outputs": [],
   "source": [
    "# making predictions for channel 1 and channel 2\n",
    "pred_rnn1 = rnn1.predict(test1.reshape(-1, 1, 3))\n",
    "pred_rnn2 = rnn2.predict(test2.reshape(-1, 1, 3))"
   ]
  },
  {
   "cell_type": "code",
   "execution_count": null,
   "metadata": {},
   "outputs": [],
   "source": [
    "# reshaping the data for input to ANN\n",
    "X1 = X1.reshape((-1, 3))\n",
    "X2 = X2.reshape((-1, 3))"
   ]
  },
  {
   "cell_type": "code",
   "execution_count": null,
   "metadata": {},
   "outputs": [],
   "source": [
    "# ANN Model for channel 1 of the music data\n",
    "ann1 = Sequential()\n",
    "ann1.add(Dense(units=100, activation='linear', input_dim=3))\n",
    "ann1.add(LeakyReLU())\n",
    "ann1.add(Dense(units=50, activation='linear'))\n",
    "ann1.add(LeakyReLU())\n",
    "ann1.add(Dense(units=25, activation='linear'))\n",
    "ann1.add(LeakyReLU())\n",
    "ann1.add(Dense(units=12, activation='linear'))\n",
    "ann1.add(LeakyReLU())\n",
    "ann1.add(Dense(units=1, activation='linear'))\n",
    "ann1.add(LeakyReLU())\n",
    "\n",
    "ann1.compile(optimizer='adam', loss='mean_squared_error')\n",
    "ann1.fit(X1, y1, epochs = 20, batch_size=100)"
   ]
  },
  {
   "cell_type": "code",
   "execution_count": null,
   "metadata": {},
   "outputs": [],
   "source": [
    "# ANN Model for channel 2 of the music data\n",
    "ann2 = Sequential()\n",
    "ann2.add(Dense(units=100, activation='linear', input_dim=3))\n",
    "ann2.add(LeakyReLU())\n",
    "ann2.add(Dense(units=50, activation='linear'))\n",
    "ann2.add(LeakyReLU())\n",
    "ann2.add(Dense(units=25, activation='linear'))\n",
    "ann2.add(LeakyReLU())\n",
    "ann2.add(Dense(units=12, activation='linear'))\n",
    "ann2.add(LeakyReLU())\n",
    "ann2.add(Dense(units=1, activation='linear'))\n",
    "ann2.add(LeakyReLU())\n",
    "\n",
    "ann2.compile(optimizer='adam', loss='mean_squared_error')\n",
    "ann2.fit(X2, y2, epochs=20, batch_size=100)"
   ]
  },
  {
   "cell_type": "code",
   "execution_count": null,
   "metadata": {},
   "outputs": [],
   "source": [
    "# saving ANN models\n",
    "ann1.model.save('ann1.h5')\n",
    "ann2.model.save('ann2.h5')"
   ]
  },
  {
   "cell_type": "code",
   "execution_count": null,
   "metadata": {},
   "outputs": [],
   "source": [
    "# loading saved ANN models\n",
    "ann1 = load_model('ann1.h5')\n",
    "ann2 = load_model('ann2.h5')"
   ]
  },
  {
   "cell_type": "code",
   "execution_count": null,
   "metadata": {},
   "outputs": [],
   "source": [
    "# making predictions for channel 1 and channel 2\n",
    "pred_ann1 = ann1.predict(test1)\n",
    "pred_ann2 = ann2.predict(test2)"
   ]
  },
  {
   "cell_type": "code",
   "execution_count": null,
   "metadata": {},
   "outputs": [],
   "source": [
    "# saving the ANN predicitons in wav format\n",
    "write('pred_ann.wav', rate, pd.concat([pd.DataFrame(pred_ann1.astype('int16')), pd.DataFrame(pred_ann2.astype('int16'))], axis=1).values)"
   ]
  },
  {
   "cell_type": "code",
   "execution_count": null,
   "metadata": {},
   "outputs": [],
   "source": [
    "# saving the LSTM predicitons in wav format\n",
    "write('pred_rnn.wav', rate, pd.concat([pd.DataFrame(pred_rnn1.astype('int16')), pd.DataFrame(pred_rnn2.astype('int16'))], axis=1).values)"
   ]
  },
  {
   "cell_type": "code",
   "execution_count": null,
   "metadata": {},
   "outputs": [],
   "source": [
    "# saving the original music in wav format\n",
    "write('original.wav',rate, pd.concat([music1.iloc[160001 : 400000, :], music2.iloc[160001 : 400000, :]], axis=0).values)"
   ]
  },
  {
   "cell_type": "code",
   "execution_count": null,
   "metadata": {},
   "outputs": [],
   "source": [
    "Audio(\"pred_ann.wav\")"
   ]
  },
  {
   "cell_type": "code",
   "execution_count": null,
   "metadata": {},
   "outputs": [],
   "source": [
    "Audio(\"pred_rnn.wav\")"
   ]
  },
  {
   "cell_type": "code",
   "execution_count": null,
   "metadata": {},
   "outputs": [],
   "source": [
    "Audio(\"original.wav\")"
   ]
  }
 ],
 "metadata": {
  "kernelspec": {
   "display_name": "Python 3",
   "language": "python",
   "name": "python3"
  },
  "language_info": {
   "codemirror_mode": {
    "name": "ipython",
    "version": 3
   },
   "file_extension": ".py",
   "mimetype": "text/x-python",
   "name": "python",
   "nbconvert_exporter": "python",
   "pygments_lexer": "ipython3",
   "version": "3.7.4"
  }
 },
 "nbformat": 4,
 "nbformat_minor": 2
}
