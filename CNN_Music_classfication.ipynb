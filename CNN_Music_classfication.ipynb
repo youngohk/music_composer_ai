{
 "cells": [
  {
   "cell_type": "code",
   "execution_count": 1,
   "metadata": {},
   "outputs": [
    {
     "ename": "ModuleNotFoundError",
     "evalue": "No module named 'gtzan'",
     "output_type": "error",
     "traceback": [
      "\u001b[0;31m---------------------------------------------------------------------------\u001b[0m",
      "\u001b[0;31mModuleNotFoundError\u001b[0m                       Traceback (most recent call last)",
      "\u001b[0;32m<ipython-input-1-100742ad8f74>\u001b[0m in \u001b[0;36m<module>\u001b[0;34m\u001b[0m\n\u001b[1;32m      7\u001b[0m \u001b[0;34m\u001b[0m\u001b[0m\n\u001b[1;32m      8\u001b[0m \u001b[0;32mimport\u001b[0m \u001b[0margparse\u001b[0m\u001b[0;34m\u001b[0m\u001b[0;34m\u001b[0m\u001b[0m\n\u001b[0;32m----> 9\u001b[0;31m \u001b[0;32mfrom\u001b[0m \u001b[0mgtzan\u001b[0m \u001b[0;32mimport\u001b[0m \u001b[0mAppManager\u001b[0m\u001b[0;34m\u001b[0m\u001b[0;34m\u001b[0m\u001b[0m\n\u001b[0m",
      "\u001b[0;31mModuleNotFoundError\u001b[0m: No module named 'gtzan'"
     ]
    }
   ],
   "source": [
    "# python3 app.py -t dl -m ../models/custom_cnn_2d.h5 -s ../data/samples/iza_meu_talisma.mp3   (실행하는 방법)\n",
    "# 소스 수정하는 부분 :  ../gtzan/__init__.py\n",
    "\n",
    "\n",
    "# https://github.com/Hguimaraes/gtzan.keras\n",
    "\n",
    "\n",
    "import argparse\n",
    "from gtzan import AppManager"
   ]
  },
  {
   "cell_type": "code",
   "execution_count": 1,
   "metadata": {},
   "outputs": [
    {
     "name": "stdout",
     "output_type": "stream",
     "text": [
      "\u001b[34m(source)_참고_자료\u001b[m\u001b[m               \u001b[34m3_music-genre-classification-master\u001b[m\u001b[m\r\n",
      "\u001b[34m1_cnn_music_genre_classfication\u001b[m\u001b[m       CNN_Music_classfication.ipynb\r\n",
      "\u001b[34m2_rnn_music_generation\u001b[m\u001b[m                \u001b[34maws_music_composer\u001b[m\u001b[m\r\n"
     ]
    }
   ],
   "source": [
    "!ls"
   ]
  },
  {
   "cell_type": "code",
   "execution_count": null,
   "metadata": {},
   "outputs": [],
   "source": [
    "import tensorflow as tf"
   ]
  },
  {
   "cell_type": "code",
   "execution_count": null,
   "metadata": {},
   "outputs": [],
   "source": [
    "# Constants\n",
    "genres = {\n",
    "    'metal': 0, 'disco': 1, 'classical': 2, 'hiphop': 3, 'jazz': 4,\n",
    "    'country': 5, 'pop': 6, 'blues': 7, 'reggae': 8, 'rock': 9\n",
    "}\n",
    "\n",
    "# @RUN: Main function to call the appmanager"
   ]
  },
  {
   "cell_type": "code",
   "execution_count": null,
   "metadata": {},
   "outputs": [],
   "source": [
    "def main(args):\n",
    "    if args.type not in [\"dl\", \"ml\"]:\n",
    "        raise ValueError(\n",
    "            \"Invalid type for the application. You should use dl or ml.\")\n",
    "\n",
    "    app = AppManager(args, genres)\n",
    "    app.run()"
   ]
  },
  {
   "cell_type": "code",
   "execution_count": null,
   "metadata": {},
   "outputs": [],
   "source": [
    "if __name__ == '__main__':\n",
    "    # Parse command line arguments\n",
    "    parser = argparse.ArgumentParser(\n",
    "        description='Music Genre Recognition on GTZAN')\n",
    "\n",
    "    # Required arguments\n",
    "    parser.add_argument('-t', '--type', help='dl', type=str, default='dl')\n",
    "\n",
    "    # Nearly optional arguments. Should be filled according to the option of the requireds\n",
    "    parser.add_argument('-m', '--model', help='Path to trained model',\n",
    "                        type=str, default='models/custom_cnn_2d.h5')\n",
    "    parser.add_argument('-s', '--song', help='Path to song to classify',\n",
    "                        type=str, default='music/sample.mp3')\n",
    "    args = parser.parse_args()\n",
    "\n",
    "    # Call the main function\n",
    "    main(args)"
   ]
  }
 ],
 "metadata": {
  "kernelspec": {
   "display_name": "PyTorch",
   "language": "python",
   "name": "pytorch"
  },
  "language_info": {
   "codemirror_mode": {
    "name": "ipython",
    "version": 3
   },
   "file_extension": ".py",
   "mimetype": "text/x-python",
   "name": "python",
   "nbconvert_exporter": "python",
   "pygments_lexer": "ipython3",
   "version": "3.7.3"
  }
 },
 "nbformat": 4,
 "nbformat_minor": 2
}
